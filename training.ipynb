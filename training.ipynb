{
 "cells": [
  {
   "cell_type": "code",
   "execution_count": 1,
   "metadata": {
    "execution": {
     "iopub.execute_input": "2023-11-25T04:56:25.924053Z",
     "iopub.status.busy": "2023-11-25T04:56:25.923148Z",
     "iopub.status.idle": "2023-11-25T04:56:33.093308Z",
     "shell.execute_reply": "2023-11-25T04:56:33.092288Z",
     "shell.execute_reply.started": "2023-11-25T04:56:25.924012Z"
    },
    "tags": []
   },
   "outputs": [
    {
     "name": "stdout",
     "output_type": "stream",
     "text": [
      "Defaulting to user installation because normal site-packages is not writeable\n",
      "Requirement already satisfied: fastparquet in /home/jupyter/.local/lib/python3.10/site-packages (2023.10.1)\n",
      "Requirement already satisfied: pandas>=1.5.0 in /usr/local/lib/python3.10/dist-packages (from fastparquet) (1.5.3)\n",
      "Requirement already satisfied: numpy>=1.20.3 in /usr/local/lib/python3.10/dist-packages (from fastparquet) (1.22.4)\n",
      "Requirement already satisfied: cramjam>=2.3 in /home/jupyter/.local/lib/python3.10/site-packages (from fastparquet) (2.7.0)\n",
      "Requirement already satisfied: fsspec in /usr/local/lib/python3.10/dist-packages (from fastparquet) (2023.6.0)\n",
      "Requirement already satisfied: packaging in /kernel/lib/python3.10/site-packages (from fastparquet) (23.2)\n",
      "Requirement already satisfied: python-dateutil>=2.8.1 in /kernel/lib/python3.10/site-packages (from pandas>=1.5.0->fastparquet) (2.8.2)\n",
      "Requirement already satisfied: pytz>=2020.1 in /usr/local/lib/python3.10/dist-packages (from pandas>=1.5.0->fastparquet) (2022.7.1)\n",
      "Requirement already satisfied: six>=1.5 in /kernel/lib/python3.10/site-packages (from python-dateutil>=2.8.1->pandas>=1.5.0->fastparquet) (1.16.0)\n",
      "\n",
      "\u001b[1m[\u001b[0m\u001b[34;49mnotice\u001b[0m\u001b[1;39;49m]\u001b[0m\u001b[39;49m A new release of pip is available: \u001b[0m\u001b[31;49m23.2.1\u001b[0m\u001b[39;49m -> \u001b[0m\u001b[32;49m23.3.1\u001b[0m\n",
      "\u001b[1m[\u001b[0m\u001b[34;49mnotice\u001b[0m\u001b[1;39;49m]\u001b[0m\u001b[39;49m To update, run: \u001b[0m\u001b[32;49mpython3 -m pip install --upgrade pip\u001b[0m\n"
     ]
    }
   ],
   "source": [
    "%pip install fastparquet"
   ]
  },
  {
   "cell_type": "code",
   "execution_count": 2,
   "metadata": {
    "execution": {
     "iopub.execute_input": "2023-11-25T04:56:33.096583Z",
     "iopub.status.busy": "2023-11-25T04:56:33.095009Z",
     "iopub.status.idle": "2023-11-25T04:56:33.109904Z",
     "shell.execute_reply": "2023-11-25T04:56:33.109121Z",
     "shell.execute_reply.started": "2023-11-25T04:56:33.096524Z"
    },
    "id": "PDZZQ6LAuSHE",
    "tags": []
   },
   "outputs": [],
   "source": [
    "BANNER = \"\"\"\n",
    "MMWXkolccc:::::::::::::::::::::cclokXWMM\n",
    "MXd,.                              .,dXM\n",
    "Xc.                            ..... .cX\n",
    "k.                            .',;,.. .k\n",
    "d.    ....................... .',;,.. .d\n",
    "d.    'dOOOOOOOOOOOOOOOOOOOkdc'.....  .d\n",
    "d.    ,0MMMMMMMMMMMMMMMMMMMMMWO;.     .d\n",
    "d.    ,0MMMXdcccccccccccclOWMMWd.     .d\n",
    "d.    ,0MMMO'             cXMMWx.     .d\n",
    "d.    ,0MMMXocccccccccccclkWMMWd.     .d\n",
    "d.    ,0MMMMMWWWWWWWWMMWMMMMMWK:.     .d\n",
    "d.    ,0MMMWK000000000XWMMMNOo,.      .d\n",
    "d.    ,0MMM0;.........,xNMMXo.        .d\n",
    "d.    ,0MMM0,          .lKMMWO;.      .d\n",
    "d.    'kXXXk'           .;kXXXO:.     .d\n",
    "x.    ..'''..             .''''..     .x\n",
    "0,                                    ,0\n",
    "Wk,.                                .,kW\n",
    "MWKd:'............................':dKWM\n",
    "MMMMNKOxxddddddddddddddddddddddxxOKNMMMM\n",
    "\"\"\""
   ]
  },
  {
   "cell_type": "code",
   "execution_count": 3,
   "metadata": {
    "execution": {
     "iopub.execute_input": "2023-11-25T04:56:33.112278Z",
     "iopub.status.busy": "2023-11-25T04:56:33.111578Z",
     "iopub.status.idle": "2023-11-25T04:56:39.780Z",
     "shell.execute_reply": "2023-11-25T04:56:39.779081Z",
     "shell.execute_reply.started": "2023-11-25T04:56:33.112236Z"
    },
    "id": "O2NF2CvQlEIv",
    "tags": []
   },
   "outputs": [],
   "source": [
    "import faiss\n",
    "from faiss import write_index, read_index\n",
    "from sentence_transformers import SentenceTransformer\n",
    "import math\n",
    "import pandas as pd\n",
    "import requests\n",
    "from urllib.parse import urlencode\n",
    "import os\n",
    "import numpy as np\n",
    "from catboost import CatBoostRanker, Pool\n",
    "from functools import partial\n",
    "import json\n",
    "import pyarrow.parquet as pq\n",
    "import time\n",
    "from concurrent.futures import ThreadPoolExecutor\n",
    "from tqdm import tqdm"
   ]
  },
  {
   "cell_type": "markdown",
   "metadata": {
    "id": "x1KC2nsVwgKO"
   },
   "source": [
    "# Загрузка данных"
   ]
  },
  {
   "cell_type": "code",
   "execution_count": 4,
   "metadata": {
    "execution": {
     "iopub.execute_input": "2023-11-25T04:56:39.782486Z",
     "iopub.status.busy": "2023-11-25T04:56:39.781698Z",
     "iopub.status.idle": "2023-11-25T04:56:39.793058Z",
     "shell.execute_reply": "2023-11-25T04:56:39.792029Z",
     "shell.execute_reply.started": "2023-11-25T04:56:39.782443Z"
    },
    "tags": []
   },
   "outputs": [],
   "source": [
    "start_time = time.time()"
   ]
  },
  {
   "cell_type": "code",
   "execution_count": 5,
   "metadata": {
    "execution": {
     "iopub.execute_input": "2023-11-25T04:56:39.795257Z",
     "iopub.status.busy": "2023-11-25T04:56:39.794285Z",
     "iopub.status.idle": "2023-11-25T04:56:39.808534Z",
     "shell.execute_reply": "2023-11-25T04:56:39.807510Z",
     "shell.execute_reply.started": "2023-11-25T04:56:39.795198Z"
    },
    "id": "DjWrl2vHwfc6",
    "tags": []
   },
   "outputs": [],
   "source": [
    "def download_file(pk, local_name):\n",
    "    base_url = \\\n",
    "        'https://cloud-api.yandex.net/v1/disk/public/resources/download?'\n",
    "\n",
    "    final_url = base_url + urlencode(dict(public_key=pk))\n",
    "    response = requests.get(final_url)\n",
    "    download_url = response.json()['href']\n",
    "\n",
    "    download_response = requests.get(download_url)\n",
    "    with open(local_name, 'wb') as f:\n",
    "        f.write(download_response.content)\n",
    "        print(f'File {local_name} downloaded')\n",
    "\n",
    "\n",
    "def download_from_yandex_disk():\n",
    "    print(BANNER)\n",
    "\n",
    "    files = {\n",
    "        'features.parquet': 'https://disk.yandex.ru/d/W_qJitz4dZGzAg',\n",
    "        'videos.parquet': 'https://disk.yandex.ru/d/JXz-oDfKFgm2Dw',\n",
    "        'automarkup.parquet': 'https://disk.yandex.ru/d/vP0FzQHdtxsz4Q',\n",
    "        'manualmarkup.csv': 'https://disk.yandex.ru/d/hDztN1rgW0JNjw'\n",
    "    }\n",
    "\n",
    "    filenames, filenames_to_delete = files.keys(), []\n",
    "    for filename in filenames:\n",
    "        if os.path.exists(filename):\n",
    "            filenames_to_delete += [filename]\n",
    "    for filename in filenames_to_delete:\n",
    "        del files[filename]\n",
    "\n",
    "    print(f'Will be download {len(files)} files')\n",
    "    for filename, link in files.items():\n",
    "        print(f'{filename} downloading in progress')\n",
    "        download_file(link, filename)\n",
    "        print(f'{filename} downloaded')"
   ]
  },
  {
   "cell_type": "code",
   "execution_count": 6,
   "metadata": {
    "colab": {
     "base_uri": "https://localhost:8080/"
    },
    "execution": {
     "iopub.execute_input": "2023-11-25T04:56:39.810018Z",
     "iopub.status.busy": "2023-11-25T04:56:39.809527Z",
     "iopub.status.idle": "2023-11-25T04:56:39.825961Z",
     "shell.execute_reply": "2023-11-25T04:56:39.825020Z",
     "shell.execute_reply.started": "2023-11-25T04:56:39.809981Z"
    },
    "id": "kBfvXaYMg7UB",
    "outputId": "beb43a53-9265-463a-e38d-f8e2b935e4a7",
    "tags": []
   },
   "outputs": [
    {
     "name": "stdout",
     "output_type": "stream",
     "text": [
      "\n",
      "MMWXkolccc:::::::::::::::::::::cclokXWMM\n",
      "MXd,.                              .,dXM\n",
      "Xc.                            ..... .cX\n",
      "k.                            .',;,.. .k\n",
      "d.    ....................... .',;,.. .d\n",
      "d.    'dOOOOOOOOOOOOOOOOOOOkdc'.....  .d\n",
      "d.    ,0MMMMMMMMMMMMMMMMMMMMMWO;.     .d\n",
      "d.    ,0MMMXdcccccccccccclOWMMWd.     .d\n",
      "d.    ,0MMMO'             cXMMWx.     .d\n",
      "d.    ,0MMMXocccccccccccclkWMMWd.     .d\n",
      "d.    ,0MMMMMWWWWWWWWMMWMMMMMWK:.     .d\n",
      "d.    ,0MMMWK000000000XWMMMNOo,.      .d\n",
      "d.    ,0MMM0;.........,xNMMXo.        .d\n",
      "d.    ,0MMM0,          .lKMMWO;.      .d\n",
      "d.    'kXXXk'           .;kXXXO:.     .d\n",
      "x.    ..'''..             .''''..     .x\n",
      "0,                                    ,0\n",
      "Wk,.                                .,kW\n",
      "MWKd:'............................':dKWM\n",
      "MMMMNKOxxddddddddddddddddddddddxxOKNMMMM\n",
      "\n",
      "Will be download 0 files\n"
     ]
    }
   ],
   "source": [
    "download_from_yandex_disk()"
   ]
  },
  {
   "cell_type": "code",
   "execution_count": 7,
   "metadata": {
    "execution": {
     "iopub.execute_input": "2023-11-25T04:56:39.828031Z",
     "iopub.status.busy": "2023-11-25T04:56:39.827143Z",
     "iopub.status.idle": "2023-11-25T04:56:39.847958Z",
     "shell.execute_reply": "2023-11-25T04:56:39.847053Z",
     "shell.execute_reply.started": "2023-11-25T04:56:39.827990Z"
    },
    "tags": []
   },
   "outputs": [],
   "source": [
    "seed = 42\n",
    "np.random.seed(seed)"
   ]
  },
  {
   "cell_type": "markdown",
   "metadata": {
    "id": "Xi4z_XXs4W_8"
   },
   "source": [
    "# Формирование базы векторов"
   ]
  },
  {
   "cell_type": "code",
   "execution_count": 8,
   "metadata": {
    "execution": {
     "iopub.execute_input": "2023-11-25T04:56:39.851201Z",
     "iopub.status.busy": "2023-11-25T04:56:39.850593Z",
     "iopub.status.idle": "2023-11-25T04:57:37.078340Z",
     "shell.execute_reply": "2023-11-25T04:57:37.077407Z",
     "shell.execute_reply.started": "2023-11-25T04:56:39.851165Z"
    },
    "tags": []
   },
   "outputs": [],
   "source": [
    "candidates = pd.read_parquet(\n",
    "    'videos.parquet',\n",
    "    engine='fastparquet',\n",
    "    columns=['video_id', 'video_title']\n",
    ")"
   ]
  },
  {
   "cell_type": "code",
   "execution_count": 9,
   "metadata": {
    "execution": {
     "iopub.execute_input": "2023-11-25T04:57:37.081233Z",
     "iopub.status.busy": "2023-11-25T04:57:37.079989Z",
     "iopub.status.idle": "2023-11-25T04:57:44.787690Z",
     "shell.execute_reply": "2023-11-25T04:57:44.785657Z",
     "shell.execute_reply.started": "2023-11-25T04:57:37.081187Z"
    },
    "tags": []
   },
   "outputs": [],
   "source": [
    "candidates = candidates.sample(n=7_000_000, replace=False, random_state=seed)"
   ]
  },
  {
   "cell_type": "code",
   "execution_count": 10,
   "metadata": {
    "execution": {
     "iopub.execute_input": "2023-11-25T04:57:44.790644Z",
     "iopub.status.busy": "2023-11-25T04:57:44.789441Z",
     "iopub.status.idle": "2023-11-25T04:57:51.008581Z",
     "shell.execute_reply": "2023-11-25T04:57:51.007534Z",
     "shell.execute_reply.started": "2023-11-25T04:57:44.790595Z"
    },
    "id": "F5UF9i8BhM1G",
    "tags": []
   },
   "outputs": [],
   "source": [
    "corpus = candidates['video_title'].apply(lambda x: x.lower()).values\n",
    "video_ids = candidates['video_id'].values\n",
    "del candidates"
   ]
  },
  {
   "cell_type": "code",
   "execution_count": 11,
   "metadata": {
    "execution": {
     "iopub.execute_input": "2023-11-25T04:57:51.010848Z",
     "iopub.status.busy": "2023-11-25T04:57:51.009974Z",
     "iopub.status.idle": "2023-11-25T04:58:00.279509Z",
     "shell.execute_reply": "2023-11-25T04:58:00.278488Z",
     "shell.execute_reply.started": "2023-11-25T04:57:51.010797Z"
    },
    "tags": []
   },
   "outputs": [
    {
     "data": {
      "application/vnd.jupyter.widget-view+json": {
       "model_id": "a3fe6b8f74d240afb5052194086baa4d",
       "version_major": 2,
       "version_minor": 0
      },
      "text/plain": [
       ".gitattributes:   0%|          | 0.00/1.23k [00:00<?, ?B/s]"
      ]
     },
     "metadata": {},
     "output_type": "display_data"
    },
    {
     "data": {
      "application/vnd.jupyter.widget-view+json": {
       "model_id": "b27325438f174deba76aced9d169e856",
       "version_major": 2,
       "version_minor": 0
      },
      "text/plain": [
       ".gitignore:   0%|          | 0.00/6.00 [00:00<?, ?B/s]"
      ]
     },
     "metadata": {},
     "output_type": "display_data"
    },
    {
     "data": {
      "application/vnd.jupyter.widget-view+json": {
       "model_id": "b5a9a8f674e64a78b9cbceb58032382d",
       "version_major": 2,
       "version_minor": 0
      },
      "text/plain": [
       "1_Pooling/config.json:   0%|          | 0.00/190 [00:00<?, ?B/s]"
      ]
     },
     "metadata": {},
     "output_type": "display_data"
    },
    {
     "data": {
      "application/vnd.jupyter.widget-view+json": {
       "model_id": "567384d0b95c4896b3d82f677d42088d",
       "version_major": 2,
       "version_minor": 0
      },
      "text/plain": [
       "README.md:   0%|          | 0.00/2.19k [00:00<?, ?B/s]"
      ]
     },
     "metadata": {},
     "output_type": "display_data"
    },
    {
     "data": {
      "application/vnd.jupyter.widget-view+json": {
       "model_id": "d53fbc6a2e184204a80af1ef9fc90bb5",
       "version_major": 2,
       "version_minor": 0
      },
      "text/plain": [
       "config.json:   0%|          | 0.00/693 [00:00<?, ?B/s]"
      ]
     },
     "metadata": {},
     "output_type": "display_data"
    },
    {
     "data": {
      "application/vnd.jupyter.widget-view+json": {
       "model_id": "a3d56bf6590e473cb87008c5f9599947",
       "version_major": 2,
       "version_minor": 0
      },
      "text/plain": [
       "model.safetensors:   0%|          | 0.00/118M [00:00<?, ?B/s]"
      ]
     },
     "metadata": {},
     "output_type": "display_data"
    },
    {
     "data": {
      "application/vnd.jupyter.widget-view+json": {
       "model_id": "724f083340734d44a1ecb63956c5b937",
       "version_major": 2,
       "version_minor": 0
      },
      "text/plain": [
       "pytorch_model.bin:   0%|          | 0.00/118M [00:00<?, ?B/s]"
      ]
     },
     "metadata": {},
     "output_type": "display_data"
    },
    {
     "data": {
      "application/vnd.jupyter.widget-view+json": {
       "model_id": "265c8526911c48cf9825bdf4b5012736",
       "version_major": 2,
       "version_minor": 0
      },
      "text/plain": [
       "sentence_bert_config.json:   0%|          | 0.00/54.0 [00:00<?, ?B/s]"
      ]
     },
     "metadata": {},
     "output_type": "display_data"
    },
    {
     "data": {
      "application/vnd.jupyter.widget-view+json": {
       "model_id": "47afa29469ba4b30ac62c2dd476ea83c",
       "version_major": 2,
       "version_minor": 0
      },
      "text/plain": [
       "special_tokens_map.json:   0%|          | 0.00/112 [00:00<?, ?B/s]"
      ]
     },
     "metadata": {},
     "output_type": "display_data"
    },
    {
     "data": {
      "application/vnd.jupyter.widget-view+json": {
       "model_id": "ddade730304942c28bb3886e8fee1073",
       "version_major": 2,
       "version_minor": 0
      },
      "text/plain": [
       "tinybert-ru-labse-adapter-v2.pt:   0%|          | 0.00/963k [00:00<?, ?B/s]"
      ]
     },
     "metadata": {},
     "output_type": "display_data"
    },
    {
     "data": {
      "application/vnd.jupyter.widget-view+json": {
       "model_id": "bc8182401e1046099ada371d7343a8dc",
       "version_major": 2,
       "version_minor": 0
      },
      "text/plain": [
       "tokenizer.json:   0%|          | 0.00/1.74M [00:00<?, ?B/s]"
      ]
     },
     "metadata": {},
     "output_type": "display_data"
    },
    {
     "data": {
      "application/vnd.jupyter.widget-view+json": {
       "model_id": "c9dd1f86fe7f4a5faa214c06c4f6f937",
       "version_major": 2,
       "version_minor": 0
      },
      "text/plain": [
       "tokenizer_config.json:   0%|          | 0.00/401 [00:00<?, ?B/s]"
      ]
     },
     "metadata": {},
     "output_type": "display_data"
    },
    {
     "data": {
      "application/vnd.jupyter.widget-view+json": {
       "model_id": "02680c5f9f3b4cd597d6ce5a8d34c899",
       "version_major": 2,
       "version_minor": 0
      },
      "text/plain": [
       "vocab.txt:   0%|          | 0.00/1.08M [00:00<?, ?B/s]"
      ]
     },
     "metadata": {},
     "output_type": "display_data"
    },
    {
     "data": {
      "application/vnd.jupyter.widget-view+json": {
       "model_id": "44ee3166ff68495a8eeb68913095e6ac",
       "version_major": 2,
       "version_minor": 0
      },
      "text/plain": [
       "modules.json:   0%|          | 0.00/349 [00:00<?, ?B/s]"
      ]
     },
     "metadata": {},
     "output_type": "display_data"
    }
   ],
   "source": [
    "st_model = SentenceTransformer(\n",
    "    'cointegrated/rubert-tiny2',\n",
    "    device='cuda'\n",
    ")"
   ]
  },
  {
   "cell_type": "code",
   "execution_count": 12,
   "metadata": {
    "execution": {
     "iopub.execute_input": "2023-11-25T04:58:00.281550Z",
     "iopub.status.busy": "2023-11-25T04:58:00.280564Z",
     "iopub.status.idle": "2023-11-25T04:58:00.315060Z",
     "shell.execute_reply": "2023-11-25T04:58:00.314121Z",
     "shell.execute_reply.started": "2023-11-25T04:58:00.281509Z"
    },
    "tags": []
   },
   "outputs": [],
   "source": [
    "# когда прогоните один раз у вас на диске уже будет сохранен faiss индекс\n",
    "# можно поставить значение True, чтобы сэкономить время на формирование индекса\n",
    "use_formed_index = True"
   ]
  },
  {
   "cell_type": "code",
   "execution_count": 13,
   "metadata": {
    "colab": {
     "base_uri": "https://localhost:8080/"
    },
    "execution": {
     "iopub.execute_input": "2023-11-25T04:58:00.317012Z",
     "iopub.status.busy": "2023-11-25T04:58:00.316149Z",
     "iopub.status.idle": "2023-11-25T04:58:00.348520Z",
     "shell.execute_reply": "2023-11-25T04:58:00.347548Z",
     "shell.execute_reply.started": "2023-11-25T04:58:00.316952Z"
    },
    "id": "XMP9z5aKlXvI",
    "outputId": "123d614c-62ee-4b20-a67a-bc1630ea9727",
    "tags": []
   },
   "outputs": [],
   "source": [
    "d = 312\n",
    "if not use_formed_index:\n",
    "    cpu_index = faiss.IndexFlatL2(d)\n",
    "    cpu_index.is_trained, cpu_index.ntotal"
   ]
  },
  {
   "cell_type": "code",
   "execution_count": 24,
   "metadata": {
    "execution": {
     "iopub.execute_input": "2023-11-25T05:00:00.590469Z",
     "iopub.status.busy": "2023-11-25T05:00:00.589540Z",
     "iopub.status.idle": "2023-11-25T05:00:07.456179Z",
     "shell.execute_reply": "2023-11-25T05:00:07.455069Z",
     "shell.execute_reply.started": "2023-11-25T05:00:00.590412Z"
    },
    "id": "VrDl0S0GIs_u",
    "tags": []
   },
   "outputs": [],
   "source": [
    "# если уже есть файл ind2videoid для вашего faiss индекса - True\n",
    "use_formed_id_mapping = False\n",
    "\n",
    "if not use_formed_id_mapping:\n",
    "    ind2videoid = {ind: video_id for ind, video_id in enumerate(video_ids)}\n",
    "    with open('ind2videoid.json', 'w+') as f:\n",
    "        json.dump(ind2videoid, f, indent=4)\n",
    "else:\n",
    "    with open('ind2videoid.json', 'r') as f:\n",
    "        ind2videoid = json.load(f)"
   ]
  },
  {
   "cell_type": "code",
   "execution_count": 15,
   "metadata": {
    "execution": {
     "iopub.execute_input": "2023-11-25T04:58:06.558951Z",
     "iopub.status.busy": "2023-11-25T04:58:06.558229Z",
     "iopub.status.idle": "2023-11-25T04:58:06.588089Z",
     "shell.execute_reply": "2023-11-25T04:58:06.587078Z",
     "shell.execute_reply.started": "2023-11-25T04:58:06.558908Z"
    },
    "id": "KPpfKABDIm-i",
    "tags": []
   },
   "outputs": [],
   "source": [
    "batch_size = 100000\n",
    "num_batches = math.ceil(len(corpus) / batch_size)"
   ]
  },
  {
   "cell_type": "code",
   "execution_count": 16,
   "metadata": {
    "execution": {
     "iopub.execute_input": "2023-11-25T04:58:06.590082Z",
     "iopub.status.busy": "2023-11-25T04:58:06.589129Z",
     "iopub.status.idle": "2023-11-25T04:58:06.606166Z",
     "shell.execute_reply": "2023-11-25T04:58:06.605275Z",
     "shell.execute_reply.started": "2023-11-25T04:58:06.590043Z"
    },
    "tags": []
   },
   "outputs": [],
   "source": [
    "if not use_formed_index:\n",
    "    try:\n",
    "        for i in range(num_batches):\n",
    "            # формируем батч\n",
    "            start, end = i * batch_size, (i + 1) * batch_size\n",
    "            corpus_batch = corpus[start:end]\n",
    "\n",
    "            # считаем вектора для всех предложений в батче\n",
    "            embeddings = st_model.encode(\n",
    "                corpus_batch,\n",
    "                batch_size=1000,\n",
    "                show_progress_bar=True\n",
    "            )\n",
    "\n",
    "            # добавляем новые батч векторов в индекс и сохраняем его\n",
    "            cpu_index.add(embeddings)\n",
    "            write_index(cpu_index, 'candidates.index')\n",
    "\n",
    "            print(f'batch: {i + 1} / {num_batches}, vectors: {cpu_index.ntotal}')\n",
    "\n",
    "            # чистим ОЗУ\n",
    "            del embeddings\n",
    "    except KeyboardInterrupt:\n",
    "        print('Остановлено пользователем')\n",
    "        try:\n",
    "            del embeddings\n",
    "        except:\n",
    "            pass"
   ]
  },
  {
   "cell_type": "code",
   "execution_count": 17,
   "metadata": {
    "execution": {
     "iopub.execute_input": "2023-11-25T04:58:06.607976Z",
     "iopub.status.busy": "2023-11-25T04:58:06.607293Z",
     "iopub.status.idle": "2023-11-25T04:58:06.626778Z",
     "shell.execute_reply": "2023-11-25T04:58:06.625702Z",
     "shell.execute_reply.started": "2023-11-25T04:58:06.607929Z"
    },
    "id": "8JpLRLropdFn",
    "tags": []
   },
   "outputs": [],
   "source": [
    "# чистим ОЗУ\n",
    "if not use_formed_index:\n",
    "    del cpu_index"
   ]
  },
  {
   "cell_type": "markdown",
   "metadata": {
    "id": "QVI-uMi_4pX7"
   },
   "source": [
    "# Подбор кандидатов по базе векторов"
   ]
  },
  {
   "cell_type": "code",
   "execution_count": 62,
   "metadata": {
    "execution": {
     "iopub.execute_input": "2023-11-25T05:59:31.149379Z",
     "iopub.status.busy": "2023-11-25T05:59:31.148345Z",
     "iopub.status.idle": "2023-11-25T05:59:38.604210Z",
     "shell.execute_reply": "2023-11-25T05:59:38.603323Z",
     "shell.execute_reply.started": "2023-11-25T05:59:31.149327Z"
    },
    "tags": []
   },
   "outputs": [],
   "source": [
    "automarkup = pd.read_parquet(\n",
    "    'automarkup.parquet',\n",
    "    engine='fastparquet'\n",
    ")"
   ]
  },
  {
   "cell_type": "code",
   "execution_count": 19,
   "metadata": {
    "execution": {
     "iopub.execute_input": "2023-11-25T04:58:12.663540Z",
     "iopub.status.busy": "2023-11-25T04:58:12.662645Z",
     "iopub.status.idle": "2023-11-25T04:58:17.724086Z",
     "shell.execute_reply": "2023-11-25T04:58:17.723099Z",
     "shell.execute_reply.started": "2023-11-25T04:58:12.663485Z"
    },
    "tags": []
   },
   "outputs": [],
   "source": [
    "automarkup = automarkup[~automarkup['query'].isna()]\n",
    "automarkup['query'] = automarkup['query'].apply(lambda x: x.lower())"
   ]
  },
  {
   "cell_type": "code",
   "execution_count": 100,
   "metadata": {
    "execution": {
     "iopub.execute_input": "2023-11-25T07:17:55.864303Z",
     "iopub.status.busy": "2023-11-25T07:17:55.863243Z",
     "iopub.status.idle": "2023-11-25T07:18:09.223400Z",
     "shell.execute_reply": "2023-11-25T07:18:09.222025Z",
     "shell.execute_reply.started": "2023-11-25T07:17:55.864222Z"
    },
    "tags": []
   },
   "outputs": [
    {
     "name": "stdout",
     "output_type": "stream",
     "text": [
      "<class 'list'>\n",
      "600\n"
     ]
    }
   ],
   "source": [
    "n = 200\n",
    "top_n = automarkup['query'].value_counts()[:int(2*n)].index.to_list()\n",
    "other = np.array(automarkup['query'].value_counts()[int(2*n):].index.to_list())\n",
    "random_n = np.random.choice(other, size=n, replace=False).tolist()\n",
    "queries = top_n + random_n\n",
    "print(type(queries))\n",
    "print(len(queries))\n",
    "query2ind = {q: i for i, q in enumerate(queries)}"
   ]
  },
  {
   "cell_type": "code",
   "execution_count": 56,
   "metadata": {
    "execution": {
     "iopub.execute_input": "2023-11-25T05:58:41.512812Z",
     "iopub.status.busy": "2023-11-25T05:58:41.511893Z",
     "iopub.status.idle": "2023-11-25T05:58:41.523709Z",
     "shell.execute_reply": "2023-11-25T05:58:41.522748Z",
     "shell.execute_reply.started": "2023-11-25T05:58:41.512758Z"
    },
    "tags": []
   },
   "outputs": [],
   "source": [
    "# когда прогоните один раз у вас на диске кандиды уже будут сохранены\n",
    "# можете поставить значение True, чтобы сэкономить время\n",
    "use_formed_candidates = False"
   ]
  },
  {
   "cell_type": "code",
   "execution_count": 57,
   "metadata": {
    "colab": {
     "base_uri": "https://localhost:8080/"
    },
    "execution": {
     "iopub.execute_input": "2023-11-25T05:58:41.888682Z",
     "iopub.status.busy": "2023-11-25T05:58:41.887919Z",
     "iopub.status.idle": "2023-11-25T05:58:41.922732Z",
     "shell.execute_reply": "2023-11-25T05:58:41.921240Z",
     "shell.execute_reply.started": "2023-11-25T05:58:41.888647Z"
    },
    "id": "y2vH5y5p3UDE",
    "outputId": "af18765a-289b-4c2d-d27e-633e3c357282",
    "tags": []
   },
   "outputs": [
    {
     "ename": "NameError",
     "evalue": "name 'st_model' is not defined",
     "output_type": "error",
     "traceback": [
      "\u001b[0;31m---------------------------------------------------------------------------\u001b[0m",
      "\u001b[0;31mNameError\u001b[0m                                 Traceback (most recent call last)",
      "\u001b[0;32m<ipython-input-57-5677ef3c1fd9>\u001b[0m in \u001b[0;36m<module>\u001b[0;34m\u001b[0m\n\u001b[0;32m----> 1\u001b[0;31m qembeddings = st_model.encode(\n\u001b[0m\u001b[1;32m      2\u001b[0m     \u001b[0mqueries\u001b[0m\u001b[0;34m,\u001b[0m\u001b[0;34m\u001b[0m\u001b[0;34m\u001b[0m\u001b[0m\n\u001b[1;32m      3\u001b[0m     \u001b[0mbatch_size\u001b[0m\u001b[0;34m=\u001b[0m\u001b[0;36m100\u001b[0m\u001b[0;34m,\u001b[0m\u001b[0;34m\u001b[0m\u001b[0;34m\u001b[0m\u001b[0m\n\u001b[1;32m      4\u001b[0m     \u001b[0mshow_progress_bar\u001b[0m\u001b[0;34m=\u001b[0m\u001b[0;32mTrue\u001b[0m\u001b[0;34m\u001b[0m\u001b[0;34m\u001b[0m\u001b[0m\n\u001b[1;32m      5\u001b[0m )\n",
      "\u001b[0;31mNameError\u001b[0m: name 'st_model' is not defined"
     ]
    }
   ],
   "source": [
    "qembeddings = st_model.encode(\n",
    "    queries,\n",
    "    batch_size=100,\n",
    "    show_progress_bar=True\n",
    ")\n",
    "\n",
    "search_cpu_index = read_index('candidates.index')\n",
    "search_cpu_index.is_trained, search_cpu_index.ntotal"
   ]
  },
  {
   "cell_type": "code",
   "execution_count": 58,
   "metadata": {
    "execution": {
     "iopub.execute_input": "2023-11-25T05:58:42.165683Z",
     "iopub.status.busy": "2023-11-25T05:58:42.164849Z",
     "iopub.status.idle": "2023-11-25T05:58:42.198010Z",
     "shell.execute_reply": "2023-11-25T05:58:42.196835Z",
     "shell.execute_reply.started": "2023-11-25T05:58:42.165631Z"
    },
    "tags": []
   },
   "outputs": [
    {
     "ename": "TypeError",
     "evalue": "'numpy.ndarray' object is not callable",
     "output_type": "error",
     "traceback": [
      "\u001b[0;31m---------------------------------------------------------------------------\u001b[0m",
      "\u001b[0;31mTypeError\u001b[0m                                 Traceback (most recent call last)",
      "\u001b[0;32m<ipython-input-58-a63b201a982a>\u001b[0m in \u001b[0;36m<module>\u001b[0;34m\u001b[0m\n\u001b[0;32m----> 1\u001b[0;31m \u001b[0mind2videoid\u001b[0m \u001b[0;34m=\u001b[0m \u001b[0mpd\u001b[0m\u001b[0;34m.\u001b[0m\u001b[0mDataFrame\u001b[0m\u001b[0;34m.\u001b[0m\u001b[0mfrom_dict\u001b[0m\u001b[0;34m(\u001b[0m\u001b[0mind2videoid\u001b[0m\u001b[0;34m,\u001b[0m \u001b[0morient\u001b[0m\u001b[0;34m=\u001b[0m\u001b[0;34m'index'\u001b[0m\u001b[0;34m)\u001b[0m\u001b[0;34m\u001b[0m\u001b[0;34m\u001b[0m\u001b[0m\n\u001b[0m\u001b[1;32m      2\u001b[0m \u001b[0mprint\u001b[0m\u001b[0;34m(\u001b[0m\u001b[0mtype\u001b[0m\u001b[0;34m(\u001b[0m\u001b[0mind2videoid\u001b[0m\u001b[0;34m)\u001b[0m\u001b[0;34m)\u001b[0m\u001b[0;34m\u001b[0m\u001b[0;34m\u001b[0m\u001b[0m\n\u001b[1;32m      3\u001b[0m \u001b[0;31m#\u001b[0m\u001b[0;34m\u001b[0m\u001b[0;34m\u001b[0m\u001b[0m\n",
      "\u001b[0;32m/usr/local/lib/python3.10/dist-packages/pandas/core/frame.py\u001b[0m in \u001b[0;36mfrom_dict\u001b[0;34m(cls, data, orient, dtype, columns)\u001b[0m\n\u001b[1;32m   1745\u001b[0m             \u001b[0;32mif\u001b[0m \u001b[0mlen\u001b[0m\u001b[0;34m(\u001b[0m\u001b[0mdata\u001b[0m\u001b[0;34m)\u001b[0m \u001b[0;34m>\u001b[0m \u001b[0;36m0\u001b[0m\u001b[0;34m:\u001b[0m\u001b[0;34m\u001b[0m\u001b[0;34m\u001b[0m\u001b[0m\n\u001b[1;32m   1746\u001b[0m                 \u001b[0;31m# TODO speed up Series case\u001b[0m\u001b[0;34m\u001b[0m\u001b[0;34m\u001b[0m\u001b[0m\n\u001b[0;32m-> 1747\u001b[0;31m                 \u001b[0;32mif\u001b[0m \u001b[0misinstance\u001b[0m\u001b[0;34m(\u001b[0m\u001b[0mlist\u001b[0m\u001b[0;34m(\u001b[0m\u001b[0mdata\u001b[0m\u001b[0;34m.\u001b[0m\u001b[0mvalues\u001b[0m\u001b[0;34m(\u001b[0m\u001b[0;34m)\u001b[0m\u001b[0;34m)\u001b[0m\u001b[0;34m[\u001b[0m\u001b[0;36m0\u001b[0m\u001b[0;34m]\u001b[0m\u001b[0;34m,\u001b[0m \u001b[0;34m(\u001b[0m\u001b[0mSeries\u001b[0m\u001b[0;34m,\u001b[0m \u001b[0mdict\u001b[0m\u001b[0;34m)\u001b[0m\u001b[0;34m)\u001b[0m\u001b[0;34m:\u001b[0m\u001b[0;34m\u001b[0m\u001b[0;34m\u001b[0m\u001b[0m\n\u001b[0m\u001b[1;32m   1748\u001b[0m                     \u001b[0mdata\u001b[0m \u001b[0;34m=\u001b[0m \u001b[0m_from_nested_dict\u001b[0m\u001b[0;34m(\u001b[0m\u001b[0mdata\u001b[0m\u001b[0;34m)\u001b[0m\u001b[0;34m\u001b[0m\u001b[0;34m\u001b[0m\u001b[0m\n\u001b[1;32m   1749\u001b[0m                 \u001b[0;32melse\u001b[0m\u001b[0;34m:\u001b[0m\u001b[0;34m\u001b[0m\u001b[0;34m\u001b[0m\u001b[0m\n",
      "\u001b[0;31mTypeError\u001b[0m: 'numpy.ndarray' object is not callable"
     ]
    }
   ],
   "source": [
    "ind2videoid = pd.DataFrame.from_dict(ind2videoid, orient='index')\n",
    "print(type(ind2videoid))"
   ]
  },
  {
   "cell_type": "code",
   "execution_count": 59,
   "metadata": {
    "execution": {
     "iopub.execute_input": "2023-11-25T05:58:42.541710Z",
     "iopub.status.busy": "2023-11-25T05:58:42.540907Z",
     "iopub.status.idle": "2023-11-25T05:58:43.075579Z",
     "shell.execute_reply": "2023-11-25T05:58:43.074796Z",
     "shell.execute_reply.started": "2023-11-25T05:58:42.541663Z"
    },
    "tags": []
   },
   "outputs": [
    {
     "name": "stdout",
     "output_type": "stream",
     "text": [
      "RangeIndex(start=0, stop=1, step=1)\n",
      "0\n",
      "video_24972264\n"
     ]
    }
   ],
   "source": [
    "print(ind2videoid.columns)\n",
    "for col in ind2videoid.columns:\n",
    "    print(col)\n",
    "    \n",
    "a = ind2videoid[ind2videoid[0] == \"video_24972264\"]\n",
    "print(ind2videoid.iloc[0,0])\n"
   ]
  },
  {
   "cell_type": "code",
   "execution_count": 60,
   "metadata": {
    "execution": {
     "iopub.execute_input": "2023-11-25T05:59:13.790979Z",
     "iopub.status.busy": "2023-11-25T05:59:13.789955Z",
     "iopub.status.idle": "2023-11-25T05:59:13.811775Z",
     "shell.execute_reply": "2023-11-25T05:59:13.810834Z",
     "shell.execute_reply.started": "2023-11-25T05:59:13.790919Z"
    },
    "tags": []
   },
   "outputs": [],
   "source": [
    "generated_cand_name = 'generated_candidates.parquet'\n",
    "\n",
    "if not use_formed_candidates:\n",
    "\n",
    "    topk = 10\n",
    "    distance, faiss_ind = search_cpu_index.search(qembeddings, topk)\n",
    "\n",
    "    generated_cand = {\n",
    "        'query': [],\n",
    "        'video_id': []\n",
    "    }\n",
    "    \n",
    "\n",
    "    \"\"\"def loop_1(queries):\"\"\"\n",
    "\n",
    "    for i, q in enumerate(queries):\n",
    "        print(f\"Epoch {i}\")\n",
    "        vids = faiss_ind[i]\n",
    "        for v in vids:\n",
    "            vid = ind2videoid.iloc[v,0]\n",
    "            generated_cand['video_id'].append(vid)\n",
    "        \n",
    "            \"\"\"[list(ind2videoid.keys())[list(ind2videoid.values()).index(str(v))] for v in vids]\"\"\"\n",
    "        for j in range(len(vids)):\n",
    "            generated_cand['query'].append(q)\n",
    "            \n",
    "    \"\"\"with ThreadPoolExecutor(workers) as executor:\n",
    "        _ = list(tqdm(executor.map(loop_1, queries), total=len(queries)))\"\"\"\n",
    "    \n",
    "    \"\"\"print(search_cpu_index[0])\n",
    "    top_k = 30\n",
    "    for query in queries:\n",
    "        query_embedding = embedder.encode(query)\n",
    "\n",
    "        # We use cosine-similarity and torch.topk to find the highest 5 scores\n",
    "        cos_scores = util.cos_sim(query_embedding, corpus_embeddings)[0]\n",
    "        top_results = torch.topk(cos_scores, k=top_k)\"\"\"\n",
    "    \n",
    "    print(\"Done\")\n",
    "\n",
    "    print(generated_cand[\"video_id\"])\n",
    "    print(generated_cand[\"query\"])\n",
    "    \n",
    "    generated_cand = pd.DataFrame(generated_cand)\n",
    "\n",
    "    generated_cand.to_parquet(\n",
    "        generated_cand_name,\n",
    "        engine='fastparquet'\n",
    "    )\n",
    "else:\n",
    "    generated_cand = pd.read_parquet(\n",
    "        generated_cand_name,\n",
    "        engine='fastparquet'\n",
    "    )"
   ]
  },
  {
   "cell_type": "markdown",
   "metadata": {},
   "source": [
    "# Формирование таргета по авторазметке"
   ]
  },
  {
   "cell_type": "code",
   "execution_count": 80,
   "metadata": {
    "execution": {
     "iopub.execute_input": "2023-11-25T06:36:30.201901Z",
     "iopub.status.busy": "2023-11-25T06:36:30.201085Z",
     "iopub.status.idle": "2023-11-25T06:36:34.920867Z",
     "shell.execute_reply": "2023-11-25T06:36:34.919778Z",
     "shell.execute_reply.started": "2023-11-25T06:36:30.201852Z"
    },
    "tags": []
   },
   "outputs": [
    {
     "name": "stdout",
     "output_type": "stream",
     "text": [
      "                                       query        video_id  target\n",
      "32                           звезды в африке  video_12736047     1.0\n",
      "33                           звезды в африке  video_12736047     1.0\n",
      "34                           звезды в африке  video_12736047     1.0\n",
      "43                        битва экстрасенсов   video_3811634     1.0\n",
      "82                     новые звезды в африке   video_5975922     1.0\n",
      "...                                      ...             ...     ...\n",
      "9330         беременна в 16 однажды в россии  video_29223287     1.0\n",
      "9331         беременна в 16 однажды в россии  video_29223287     1.0\n",
      "9332         беременна в 16 однажды в россии  video_29223287     1.0\n",
      "9333         беременна в 16 однажды в россии  video_29223287     1.0\n",
      "9484  мать героиня наследие мужское женское   video_16886162     1.0\n",
      "\n",
      "[3588 rows x 3 columns]\n"
     ]
    }
   ],
   "source": [
    "automarkup['target'] = [1] * automarkup.shape[0]\n",
    "candidates_with_target = generated_cand.merge(\n",
    "    automarkup[['query', 'video_id','target']],\n",
    "    how='left',\n",
    "    left_on=['query', 'video_id'],\n",
    "    right_on=['query', 'video_id']\n",
    ")\n",
    "print(candidates_with_target.columns)\n",
    "print(candidates_with_target.target.unique())\n",
    "check = candidates_with_target.loc[candidates_with_target[\"target\"] == 1.0]\n",
    "print(check)\n",
    "candidates_with_target['target'] = candidates_with_target['target'].fillna(0)\n",
    "\n",
    "check = candidates_with_target.loc[candidates_with_target[\"target\"] == 1.0]"
   ]
  },
  {
   "cell_type": "code",
   "execution_count": 55,
   "metadata": {
    "execution": {
     "iopub.execute_input": "2023-11-25T05:58:06.962200Z",
     "iopub.status.busy": "2023-11-25T05:58:06.961430Z",
     "iopub.status.idle": "2023-11-25T05:58:07.321575Z",
     "shell.execute_reply": "2023-11-25T05:58:07.320411Z",
     "shell.execute_reply.started": "2023-11-25T05:58:06.962165Z"
    },
    "tags": []
   },
   "outputs": [],
   "source": [
    "# очищаем ОЗУ\n",
    "\"\"\"del generated_cand\n",
    "del search_cpu_index\n",
    "del automarkup\n",
    "del st_model\n",
    "del qembeddings\"\"\""
   ]
  },
  {
   "cell_type": "code",
   "execution_count": 84,
   "metadata": {
    "execution": {
     "iopub.execute_input": "2023-11-25T06:38:01.139327Z",
     "iopub.status.busy": "2023-11-25T06:38:01.138470Z",
     "iopub.status.idle": "2023-11-25T06:51:37.123238Z",
     "shell.execute_reply": "2023-11-25T06:51:37.122347Z",
     "shell.execute_reply.started": "2023-11-25T06:38:01.139288Z"
    },
    "tags": []
   },
   "outputs": [],
   "source": [
    "# здесь мы используем признаки актуальные на состояние 2-ого мая 2023 года\n",
    "# вы можете использовать признаки наиболее актуальные для вашего кандидата\n",
    "\n",
    "features_parquet = pq.ParquetFile('features.parquet')\n",
    "features, filter_date = None, '2023-10-02'\n",
    "\n",
    "for batch in features_parquet.iter_batches():\n",
    "    tmp = batch.to_pandas()\n",
    "    if features is None:\n",
    "        features = tmp[tmp['report_date'] >= filter_date]\n",
    "    else:\n",
    "        features = pd.concat([\n",
    "            features, \n",
    "            tmp[tmp['report_date'] == filter_date]\n",
    "        ], axis=0)\n",
    "\n",
    "# для baseline выбросим категориальные признаки и datetime признаки\n",
    "# в своем решении вы сами можете решить использовать их или нет\n",
    "features = features.drop(\n",
    "    [\n",
    "        'v_channel_reg_datetime',\n",
    "        'v_channel_type',\n",
    "        'v_pub_datetime'\n",
    "    ], \n",
    "    axis=1\n",
    ")"
   ]
  },
  {
   "cell_type": "markdown",
   "metadata": {},
   "source": [
    "# Формирование датасета с признаками"
   ]
  },
  {
   "cell_type": "code",
   "execution_count": 85,
   "metadata": {
    "execution": {
     "iopub.execute_input": "2023-11-25T06:51:43.197345Z",
     "iopub.status.busy": "2023-11-25T06:51:43.196579Z",
     "iopub.status.idle": "2023-11-25T06:51:56.864560Z",
     "shell.execute_reply": "2023-11-25T06:51:56.863646Z",
     "shell.execute_reply.started": "2023-11-25T06:51:43.197308Z"
    },
    "tags": []
   },
   "outputs": [
    {
     "name": "stdout",
     "output_type": "stream",
     "text": [
      "                                                  query  ... v_cr_click_comment_1_days\n",
      "0                                      битва сильнейших  ...                       0.0\n",
      "1                          экстрасенсы битва сильнейших  ...                       0.0\n",
      "2                                     битва сильнейших   ...                       0.0\n",
      "3                         экстрасенсы. битва сильнейших  ...                       0.0\n",
      "4                         экстрасенсы битва сильнейших   ...                       0.0\n",
      "...                                                 ...  ...                       ...\n",
      "6545  четыре свадьбы дворянская свадьба vs свадьба в...  ...                       0.0\n",
      "6546  четыре свадьбы дворянская свадьба vs свадьба в...  ...                       0.0\n",
      "6547                                         шоурум пик  ...                       0.0\n",
      "6548                                         шоурум пик  ...                       0.0\n",
      "6549                                 тилька бани гренни  ...                       0.0\n",
      "\n",
      "[6550 rows x 28 columns]\n",
      "                                                  query  ... v_cr_click_comment_1_days\n",
      "0                                      битва сильнейших  ...                       0.0\n",
      "1                          экстрасенсы битва сильнейших  ...                       0.0\n",
      "2                                     битва сильнейших   ...                       0.0\n",
      "3                         экстрасенсы. битва сильнейших  ...                       0.0\n",
      "4                         экстрасенсы битва сильнейших   ...                       0.0\n",
      "...                                                 ...  ...                       ...\n",
      "6545  четыре свадьбы дворянская свадьба vs свадьба в...  ...                       0.0\n",
      "6546  четыре свадьбы дворянская свадьба vs свадьба в...  ...                       0.0\n",
      "6547                                         шоурум пик  ...                       0.0\n",
      "6548                                         шоурум пик  ...                       0.0\n",
      "6549                                 тилька бани гренни  ...                       0.0\n",
      "\n",
      "[3308 rows x 27 columns]\n"
     ]
    }
   ],
   "source": [
    "full_df = candidates_with_target.merge(\n",
    "    features,\n",
    "    how='inner',\n",
    "    left_on='video_id',\n",
    "    right_on='video_id'\n",
    ")\n",
    "\"\"\"del features\"\"\"\n",
    "print(full_df)\n",
    "full_df = full_df.drop('report_date', axis=1)\n",
    "full_df = full_df.drop_duplicates()\n",
    "print(full_df)"
   ]
  },
  {
   "cell_type": "code",
   "execution_count": 86,
   "metadata": {
    "execution": {
     "iopub.execute_input": "2023-11-25T06:52:03.351585Z",
     "iopub.status.busy": "2023-11-25T06:52:03.350774Z",
     "iopub.status.idle": "2023-11-25T06:52:03.630691Z",
     "shell.execute_reply": "2023-11-25T06:52:03.629793Z",
     "shell.execute_reply.started": "2023-11-25T06:52:03.351542Z"
    },
    "tags": []
   },
   "outputs": [
    {
     "name": "stdout",
     "output_type": "stream",
     "text": [
      "                                                  query  ... group_id\n",
      "0                                      битва сильнейших  ...       87\n",
      "1                          экстрасенсы битва сильнейших  ...      581\n",
      "2                                     битва сильнейших   ...       88\n",
      "3                         экстрасенсы. битва сильнейших  ...      588\n",
      "4                         экстрасенсы битва сильнейших   ...      582\n",
      "...                                                 ...  ...      ...\n",
      "6545  четыре свадьбы дворянская свадьба vs свадьба в...  ...      559\n",
      "6546  четыре свадьбы дворянская свадьба vs свадьба в...  ...      559\n",
      "6547                                         шоурум пик  ...      574\n",
      "6548                                         шоурум пик  ...      574\n",
      "6549                                 тилька бани гренни  ...      515\n",
      "\n",
      "[3308 rows x 28 columns]\n",
      "                                                  query  ... group_id\n",
      "0                                      битва сильнейших  ...       87\n",
      "1                          экстрасенсы битва сильнейших  ...      581\n",
      "2                                     битва сильнейших   ...       88\n",
      "3                         экстрасенсы. битва сильнейших  ...      588\n",
      "4                         экстрасенсы битва сильнейших   ...      582\n",
      "...                                                 ...  ...      ...\n",
      "6545  четыре свадьбы дворянская свадьба vs свадьба в...  ...      559\n",
      "6546  четыре свадьбы дворянская свадьба vs свадьба в...  ...      559\n",
      "6547                                         шоурум пик  ...      574\n",
      "6548                                         шоурум пик  ...      574\n",
      "6549                                 тилька бани гренни  ...      515\n",
      "\n",
      "[3308 rows x 28 columns]\n"
     ]
    }
   ],
   "source": [
    "groups_to_drop = []\n",
    "full_df['group_id'] = full_df.groupby(['query']).ngroup()\n",
    "for group in full_df['group_id'].unique():\n",
    "    part_df = full_df[full_df['group_id'] == group]\n",
    "    target_sum = part_df['target'].values.sum()\n",
    "    if target_sum <= 0:\n",
    "        groups_to_drop += [group]\n",
    "print(full_df)\n",
    "\"\"\"full_df = full_df[~full_df['group_id'].isin(groups_to_drop)]\"\"\"\n",
    "print(full_df)"
   ]
  },
  {
   "cell_type": "code",
   "execution_count": 87,
   "metadata": {
    "execution": {
     "iopub.execute_input": "2023-11-25T06:52:03.754668Z",
     "iopub.status.busy": "2023-11-25T06:52:03.753781Z",
     "iopub.status.idle": "2023-11-25T06:52:03.842104Z",
     "shell.execute_reply": "2023-11-25T06:52:03.841086Z",
     "shell.execute_reply.started": "2023-11-25T06:52:03.754626Z"
    },
    "tags": []
   },
   "outputs": [
    {
     "name": "stdout",
     "output_type": "stream",
     "text": [
      "                                                  query  ... group_id\n",
      "0                                      битва сильнейших  ...       87\n",
      "1                          экстрасенсы битва сильнейших  ...      581\n",
      "2                                     битва сильнейших   ...       88\n",
      "3                         экстрасенсы. битва сильнейших  ...      588\n",
      "4                         экстрасенсы битва сильнейших   ...      582\n",
      "...                                                 ...  ...      ...\n",
      "6545  четыре свадьбы дворянская свадьба vs свадьба в...  ...      559\n",
      "6546  четыре свадьбы дворянская свадьба vs свадьба в...  ...      559\n",
      "6547                                         шоурум пик  ...      574\n",
      "6548                                         шоурум пик  ...      574\n",
      "6549                                 тилька бани гренни  ...      515\n",
      "\n",
      "[3308 rows x 28 columns]\n",
      "188    223\n",
      "238    214\n",
      "462    484\n",
      "465    452\n",
      "182    370\n",
      "      ... \n",
      "85     376\n",
      "242    288\n",
      "186    459\n",
      "326    169\n",
      "159    268\n",
      "Length: 446, dtype: int64\n",
      "12     174\n",
      "35     211\n",
      "28     329\n",
      "170    372\n",
      "142    476\n",
      "      ... \n",
      "455     54\n",
      "592    298\n",
      "269    321\n",
      "201    373\n",
      "161    416\n",
      "Length: 89, dtype: int64\n",
      "401    395\n",
      "476    535\n",
      "105    482\n",
      "389    413\n",
      "1      581\n",
      "554    462\n",
      "80     280\n",
      "205    543\n",
      "34     324\n",
      "508    202\n",
      "427    551\n",
      "454    271\n",
      "366    238\n",
      "91     541\n",
      "339    448\n",
      "345     98\n",
      "241    287\n",
      "13     164\n",
      "315     53\n",
      "387    524\n",
      "273    231\n",
      "166    277\n",
      "589    333\n",
      "484    197\n",
      "580     81\n",
      "504    222\n",
      "243     40\n",
      "189    147\n",
      "475     33\n",
      "510     35\n",
      "58     464\n",
      "474    126\n",
      "560    427\n",
      "252    229\n",
      "21     168\n",
      "313    365\n",
      "459    510\n",
      "160    139\n",
      "276    539\n",
      "191     19\n",
      "385    409\n",
      "413    575\n",
      "491    180\n",
      "343     73\n",
      "308    291\n",
      "130    181\n",
      "99     488\n",
      "372    425\n",
      "87     199\n",
      "458    129\n",
      "330    185\n",
      "214     24\n",
      "466    536\n",
      "121    128\n",
      "20     161\n",
      "71     345\n",
      "106    478\n",
      "270    530\n",
      "435     90\n",
      "102    553\n",
      "dtype: int64\n",
      "                                                  query  ... group_id\n",
      "0                                      битва сильнейших  ...       87\n",
      "1                          экстрасенсы битва сильнейших  ...      581\n",
      "2                                     битва сильнейших   ...       88\n",
      "3                         экстрасенсы. битва сильнейших  ...      588\n",
      "4                         экстрасенсы битва сильнейших   ...      582\n",
      "...                                                 ...  ...      ...\n",
      "6545  четыре свадьбы дворянская свадьба vs свадьба в...  ...      559\n",
      "6546  четыре свадьбы дворянская свадьба vs свадьба в...  ...      559\n",
      "6547                                         шоурум пик  ...      574\n",
      "6548                                         шоурум пик  ...      574\n",
      "6549                                 тилька бани гренни  ...      515\n",
      "\n",
      "[3308 rows x 28 columns]\n"
     ]
    }
   ],
   "source": [
    "print(full_df)\n",
    "groups = pd.Series(full_df['group_id'].unique())\n",
    "permutation = groups.sample(frac=1, random_state=seed)\n",
    "train_groups, val_groups, test_groups = np.split(\n",
    "    permutation,\n",
    "    [int(0.75 * len(permutation)), int(0.90 * len(permutation))]\n",
    ")\n",
    "print(train_groups)\n",
    "print(val_groups)\n",
    "print(test_groups)\n",
    "print(full_df)"
   ]
  },
  {
   "cell_type": "code",
   "execution_count": 88,
   "metadata": {
    "execution": {
     "iopub.execute_input": "2023-11-25T06:52:12.940627Z",
     "iopub.status.busy": "2023-11-25T06:52:12.939722Z",
     "iopub.status.idle": "2023-11-25T06:52:13.052415Z",
     "shell.execute_reply": "2023-11-25T06:52:13.051390Z",
     "shell.execute_reply.started": "2023-11-25T06:52:12.940580Z"
    },
    "tags": []
   },
   "outputs": [
    {
     "name": "stdout",
     "output_type": "stream",
     "text": [
      "                                                  query  ... group_id\n",
      "0                                      битва сильнейших  ...       87\n",
      "2                                     битва сильнейших   ...       88\n",
      "3                         экстрасенсы. битва сильнейших  ...      588\n",
      "5                             битва сильнейших 3 выпуск  ...       94\n",
      "6                             битва сильнейших 4 выпуск  ...       96\n",
      "...                                                 ...  ...      ...\n",
      "6545  четыре свадьбы дворянская свадьба vs свадьба в...  ...      559\n",
      "6546  четыре свадьбы дворянская свадьба vs свадьба в...  ...      559\n",
      "6547                                         шоурум пик  ...      574\n",
      "6548                                         шоурум пик  ...      574\n",
      "6549                                 тилька бани гренни  ...      515\n",
      "\n",
      "[2509 rows x 28 columns]\n",
      "                                       query  ... group_id\n",
      "4              экстрасенсы битва сильнейших   ...      582\n",
      "20                            выжить в дубай  ...      174\n",
      "22                          выжить в дубае 6  ...      166\n",
      "35                            выжить в дубай  ...      174\n",
      "43                            выжить в дубай  ...      174\n",
      "...                                      ...  ...      ...\n",
      "6536  мать героиня наследие мужское женское   ...      298\n",
      "6537  мать героиня наследие мужское женское   ...      298\n",
      "6538  мать героиня наследие мужское женское   ...      298\n",
      "6539  мать героиня наследие мужское женское   ...      298\n",
      "6540  мать героиня наследие мужское женское   ...      298\n",
      "\n",
      "[482 rows x 28 columns]\n",
      "                                query  ... group_id\n",
      "1        экстрасенсы битва сильнейших  ...      581\n",
      "21                   выжить в дубае 4  ...      164\n",
      "28                  выжить в дубае 10  ...      161\n",
      "29                   выжить в дубае 8  ...      168\n",
      "87         мужское женское истезатель  ...      324\n",
      "...                               ...  ...      ...\n",
      "6467  беременна в 16 однажды в россии  ...       81\n",
      "6468  беременна в 16 однажды в россии  ...       81\n",
      "6522               музлофт uma2yurman  ...      333\n",
      "6523               музлофт uma2yurman  ...      333\n",
      "6524               музлофт uma2yurman  ...      333\n",
      "\n",
      "[317 rows x 28 columns]\n"
     ]
    }
   ],
   "source": [
    "train_df = full_df[full_df['group_id'].isin(train_groups)]\n",
    "print(train_df)\n",
    "val_df = full_df[full_df['group_id'].isin(val_groups)]\n",
    "print(val_df)\n",
    "test_df = full_df[full_df['group_id'].isin(test_groups)]\n",
    "print(test_df)"
   ]
  },
  {
   "cell_type": "code",
   "execution_count": 89,
   "metadata": {
    "execution": {
     "iopub.execute_input": "2023-11-25T06:52:16.689171Z",
     "iopub.status.busy": "2023-11-25T06:52:16.688209Z",
     "iopub.status.idle": "2023-11-25T06:52:16.706540Z",
     "shell.execute_reply": "2023-11-25T06:52:16.705631Z",
     "shell.execute_reply.started": "2023-11-25T06:52:16.689130Z"
    },
    "tags": []
   },
   "outputs": [],
   "source": [
    "train_df = train_df.sort_values('group_id')\n",
    "val_df = val_df.sort_values('group_id')\n",
    "test_df = test_df.sort_values('group_id')"
   ]
  },
  {
   "cell_type": "code",
   "execution_count": 90,
   "metadata": {
    "execution": {
     "iopub.execute_input": "2023-11-25T06:52:18.878853Z",
     "iopub.status.busy": "2023-11-25T06:52:18.877891Z",
     "iopub.status.idle": "2023-11-25T06:52:18.909594Z",
     "shell.execute_reply": "2023-11-25T06:52:18.908726Z",
     "shell.execute_reply.started": "2023-11-25T06:52:18.878786Z"
    },
    "tags": []
   },
   "outputs": [
    {
     "name": "stdout",
     "output_type": "stream",
     "text": [
      "['total_comments', 'v_year_views', 'v_month_views', 'v_week_views', 'v_day_views', 'v_likes', 'v_dislikes', 'v_duration', 'v_cr_click_like_7_days', 'v_cr_click_dislike_7_days', 'v_cr_click_vtop_7_days', 'v_cr_click_long_view_7_days', 'v_cr_click_comment_7_days', 'v_cr_click_like_30_days', 'v_cr_click_dislike_30_days', 'v_cr_click_vtop_30_days', 'v_cr_click_long_view_30_days', 'v_cr_click_comment_30_days', 'v_cr_click_like_1_days', 'v_cr_click_dislike_1_days', 'v_cr_click_vtop_1_days', 'v_cr_click_long_view_1_days', 'v_cr_click_comment_1_days']\n",
      "4874    0.0\n",
      "4873    0.0\n",
      "4871    0.0\n",
      "4872    0.0\n",
      "4869    0.0\n",
      "       ... \n",
      "1890    0.0\n",
      "1891    0.0\n",
      "132     0.0\n",
      "1889    0.0\n",
      "128     0.0\n",
      "Name: target, Length: 2509, dtype: float64\n"
     ]
    }
   ],
   "source": [
    "metainfo_columns = ['query', 'video_id', 'target', 'group_id', 'v_category']\n",
    "\n",
    "X_train = train_df.drop(metainfo_columns, axis=1)\n",
    "y_train, g_train = train_df['target'], train_df['group_id']\n",
    "\n",
    "print(X_train.columns.to_list())\n",
    "print(y_train)\n",
    "\n",
    "X_val = val_df.drop(metainfo_columns, axis=1)\n",
    "y_val, g_val = val_df['target'], val_df['group_id']\n",
    "\n",
    "X_test = test_df.drop(metainfo_columns, axis=1)\n",
    "y_test, g_test = test_df['target'], test_df['group_id']"
   ]
  },
  {
   "cell_type": "code",
   "execution_count": 91,
   "metadata": {
    "execution": {
     "iopub.execute_input": "2023-11-25T06:52:30.898644Z",
     "iopub.status.busy": "2023-11-25T06:52:30.897587Z",
     "iopub.status.idle": "2023-11-25T06:52:31.578661Z",
     "shell.execute_reply": "2023-11-25T06:52:31.577725Z",
     "shell.execute_reply.started": "2023-11-25T06:52:30.898598Z"
    },
    "tags": []
   },
   "outputs": [],
   "source": [
    "train = Pool(\n",
    "    data=X_train.values,\n",
    "    label=y_train.values,\n",
    "    group_id=g_train.values,\n",
    "    feature_names=X_train.columns.to_list()\n",
    ")\n",
    "\n",
    "val = Pool(\n",
    "    data=X_val.values,\n",
    "    label=y_val.values,\n",
    "    group_id=g_val.values,\n",
    "    feature_names=X_val.columns.to_list()\n",
    ")\n",
    "\n",
    "test = Pool(\n",
    "    data=X_test.values,\n",
    "    label=y_test.values,\n",
    "    group_id=g_test.values,\n",
    "    feature_names=X_test.columns.to_list()\n",
    ")"
   ]
  },
  {
   "cell_type": "markdown",
   "metadata": {},
   "source": [
    "# Обучение модели"
   ]
  },
  {
   "cell_type": "code",
   "execution_count": 92,
   "metadata": {
    "execution": {
     "iopub.execute_input": "2023-11-25T06:52:34.674713Z",
     "iopub.status.busy": "2023-11-25T06:52:34.673663Z",
     "iopub.status.idle": "2023-11-25T06:52:34.692604Z",
     "shell.execute_reply": "2023-11-25T06:52:34.691611Z",
     "shell.execute_reply.started": "2023-11-25T06:52:34.674658Z"
    },
    "tags": []
   },
   "outputs": [],
   "source": [
    "task_type = 'GPU'\n",
    "metric_period = 250\n",
    "\n",
    "parameters = {\n",
    "    'task_type': task_type,\n",
    "    'verbose': False,\n",
    "    'random_seed': seed,\n",
    "    'loss_function': 'QueryRMSE',\n",
    "    'learning_rate': 0.001,\n",
    "    'l2_leaf_reg': 30,\n",
    "    'iterations': 4000,\n",
    "    'max_depth': 3,\n",
    "}"
   ]
  },
  {
   "cell_type": "code",
   "execution_count": 93,
   "metadata": {
    "execution": {
     "iopub.execute_input": "2023-11-25T06:52:37.225783Z",
     "iopub.status.busy": "2023-11-25T06:52:37.224848Z",
     "iopub.status.idle": "2023-11-25T06:52:57.333313Z",
     "shell.execute_reply": "2023-11-25T06:52:57.332332Z",
     "shell.execute_reply.started": "2023-11-25T06:52:37.225728Z"
    },
    "tags": []
   },
   "outputs": [
    {
     "data": {
      "application/vnd.jupyter.widget-view+json": {
       "model_id": "319bb970c3f14b188324e0196c898316",
       "version_major": 2,
       "version_minor": 0
      },
      "text/plain": [
       "MetricVisualizer(layout=Layout(align_self='stretch', height='500px'))"
      ]
     },
     "metadata": {},
     "output_type": "display_data"
    }
   ],
   "source": [
    "model = CatBoostRanker(**parameters)\n",
    "model = model.fit(\n",
    "    train,\n",
    "    eval_set=val,\n",
    "    plot=True,\n",
    "    use_best_model=True,\n",
    "    metric_period=metric_period\n",
    ")\n",
    "model.save_model('ranker.ckpt')"
   ]
  },
  {
   "cell_type": "markdown",
   "metadata": {},
   "source": [
    "# Измерение метрик"
   ]
  },
  {
   "cell_type": "code",
   "execution_count": 94,
   "metadata": {
    "execution": {
     "iopub.execute_input": "2023-11-25T06:53:32.149030Z",
     "iopub.status.busy": "2023-11-25T06:53:32.148188Z",
     "iopub.status.idle": "2023-11-25T06:53:32.186480Z",
     "shell.execute_reply": "2023-11-25T06:53:32.185503Z",
     "shell.execute_reply.started": "2023-11-25T06:53:32.148989Z"
    },
    "tags": []
   },
   "outputs": [],
   "source": [
    "def _metrics_at(at, model, pool, metric='NDCG'):\n",
    "    metric = metric + f':top={at}'\n",
    "    eval_metrics = model.eval_metrics(pool, metrics=[metric])\n",
    "    best_metrics = {}\n",
    "    for key in eval_metrics.keys():\n",
    "        best_metrics[key] = eval_metrics[key][model.best_iteration_]\n",
    "    return best_metrics\n",
    "\n",
    "\n",
    "metrics_train_at = partial(\n",
    "    _metrics_at,\n",
    "    model=model, \n",
    "    pool=train\n",
    ")\n",
    "\n",
    "metrics_val_at = partial(\n",
    "    _metrics_at, \n",
    "    model=model, \n",
    "    pool=val\n",
    ")\n",
    "\n",
    "metrics_test_at = partial(\n",
    "    _metrics_at,\n",
    "    model=model, \n",
    "    pool=test\n",
    ")"
   ]
  },
  {
   "cell_type": "code",
   "execution_count": 95,
   "metadata": {
    "execution": {
     "iopub.execute_input": "2023-11-25T06:53:34.426066Z",
     "iopub.status.busy": "2023-11-25T06:53:34.425206Z",
     "iopub.status.idle": "2023-11-25T06:53:35.907906Z",
     "shell.execute_reply": "2023-11-25T06:53:35.906805Z",
     "shell.execute_reply.started": "2023-11-25T06:53:34.426006Z"
    },
    "tags": []
   },
   "outputs": [
    {
     "data": {
      "text/plain": [
       "({'NDCG:top=1;type=Base': 0.9932735426008968},\n",
       " {'NDCG:top=5;type=Base': 0.995882954563868})"
      ]
     },
     "execution_count": 95,
     "metadata": {},
     "output_type": "execute_result"
    }
   ],
   "source": [
    "metrics_train_at(1), metrics_train_at(5)"
   ]
  },
  {
   "cell_type": "code",
   "execution_count": 96,
   "metadata": {
    "execution": {
     "iopub.execute_input": "2023-11-25T06:53:37.377231Z",
     "iopub.status.busy": "2023-11-25T06:53:37.376190Z",
     "iopub.status.idle": "2023-11-25T06:53:38.298576Z",
     "shell.execute_reply": "2023-11-25T06:53:38.297698Z",
     "shell.execute_reply.started": "2023-11-25T06:53:37.377181Z"
    },
    "tags": []
   },
   "outputs": [
    {
     "data": {
      "text/plain": [
       "({'NDCG:top=1;type=Base': 0.9887640449438202},\n",
       " {'NDCG:top=5;type=Base': 0.9897698602053552})"
      ]
     },
     "execution_count": 96,
     "metadata": {},
     "output_type": "execute_result"
    }
   ],
   "source": [
    "metrics_val_at(1), metrics_val_at(5)"
   ]
  },
  {
   "cell_type": "code",
   "execution_count": 97,
   "metadata": {
    "execution": {
     "iopub.execute_input": "2023-11-25T06:53:39.486164Z",
     "iopub.status.busy": "2023-11-25T06:53:39.485235Z",
     "iopub.status.idle": "2023-11-25T06:53:40.303180Z",
     "shell.execute_reply": "2023-11-25T06:53:40.302318Z",
     "shell.execute_reply.started": "2023-11-25T06:53:39.486110Z"
    },
    "tags": []
   },
   "outputs": [
    {
     "data": {
      "text/plain": [
       "({'NDCG:top=1;type=Base': 0.9833333333333333},\n",
       " {'NDCG:top=5;type=Base': 0.9948904400602878})"
      ]
     },
     "execution_count": 97,
     "metadata": {},
     "output_type": "execute_result"
    }
   ],
   "source": [
    "metrics_test_at(1), metrics_test_at(5)"
   ]
  },
  {
   "cell_type": "code",
   "execution_count": 98,
   "metadata": {
    "execution": {
     "iopub.execute_input": "2023-11-25T06:53:43.398090Z",
     "iopub.status.busy": "2023-11-25T06:53:43.397196Z",
     "iopub.status.idle": "2023-11-25T06:53:43.418537Z",
     "shell.execute_reply": "2023-11-25T06:53:43.417663Z",
     "shell.execute_reply.started": "2023-11-25T06:53:43.398038Z"
    },
    "tags": []
   },
   "outputs": [],
   "source": [
    "# очищаем ОЗУ\n",
    "del model\n",
    "del full_df\n",
    "del train_df, val_df, test_df\n",
    "del train, val, test\n",
    "del X_train, y_train, g_train\n",
    "del X_val, y_val, g_val\n",
    "del X_test, y_test, g_test"
   ]
  },
  {
   "cell_type": "code",
   "execution_count": 99,
   "metadata": {
    "execution": {
     "iopub.execute_input": "2023-11-25T06:53:45.549384Z",
     "iopub.status.busy": "2023-11-25T06:53:45.548508Z",
     "iopub.status.idle": "2023-11-25T06:53:45.561074Z",
     "shell.execute_reply": "2023-11-25T06:53:45.560267Z",
     "shell.execute_reply.started": "2023-11-25T06:53:45.549337Z"
    },
    "tags": []
   },
   "outputs": [
    {
     "name": "stdout",
     "output_type": "stream",
     "text": [
      "Общее время работы baseline: 117 минут\n"
     ]
    }
   ],
   "source": [
    "end_time = time.time()\n",
    "total_time = (end_time - start_time) / 60\n",
    "print(f'Общее время работы baseline: {int(total_time)} минут')"
   ]
  },
  {
   "cell_type": "code",
   "execution_count": null,
   "metadata": {},
   "outputs": [],
   "source": []
  }
 ],
 "metadata": {
  "accelerator": "GPU",
  "colab": {
   "gpuType": "T4",
   "provenance": []
  },
  "kernelspec": {
   "display_name": "DataSphere Kernel",
   "language": "python",
   "name": "python3"
  },
  "language_info": {
   "codemirror_mode": {
    "name": "ipython",
    "version": 3
   },
   "file_extension": ".py",
   "mimetype": "text/x-python",
   "name": "python",
   "nbconvert_exporter": "python",
   "pygments_lexer": "ipython3",
   "version": "3.7.7"
  },
  "widgets": {
   "application/vnd.jupyter.widget-state+json": {
    "012088fc48b04f688abcded2e2de7458": {
     "model_module": "@jupyter-widgets/controls",
     "model_module_version": "1.5.0",
     "model_name": "HTMLModel",
     "state": {
      "_dom_classes": [],
      "_model_module": "@jupyter-widgets/controls",
      "_model_module_version": "1.5.0",
      "_model_name": "HTMLModel",
      "_view_count": null,
      "_view_module": "@jupyter-widgets/controls",
      "_view_module_version": "1.5.0",
      "_view_name": "HTMLView",
      "description": "",
      "description_tooltip": null,
      "layout": "IPY_MODEL_64336973210b44aa9453a27173d98935",
      "placeholder": "​",
      "style": "IPY_MODEL_e1cea41a593f48a1a69e2fce6d07a0f0",
      "value": "Batches: 100%"
     }
    },
    "01b2071a14054820bf7572ddca99c09b": {
     "model_module": "@jupyter-widgets/base",
     "model_module_version": "1.2.0",
     "model_name": "LayoutModel",
     "state": {
      "_model_module": "@jupyter-widgets/base",
      "_model_module_version": "1.2.0",
      "_model_name": "LayoutModel",
      "_view_count": null,
      "_view_module": "@jupyter-widgets/base",
      "_view_module_version": "1.2.0",
      "_view_name": "LayoutView",
      "align_content": null,
      "align_items": null,
      "align_self": null,
      "border": null,
      "bottom": null,
      "display": null,
      "flex": null,
      "flex_flow": null,
      "grid_area": null,
      "grid_auto_columns": null,
      "grid_auto_flow": null,
      "grid_auto_rows": null,
      "grid_column": null,
      "grid_gap": null,
      "grid_row": null,
      "grid_template_areas": null,
      "grid_template_columns": null,
      "grid_template_rows": null,
      "height": null,
      "justify_content": null,
      "justify_items": null,
      "left": null,
      "margin": null,
      "max_height": null,
      "max_width": null,
      "min_height": null,
      "min_width": null,
      "object_fit": null,
      "object_position": null,
      "order": null,
      "overflow": null,
      "overflow_x": null,
      "overflow_y": null,
      "padding": null,
      "right": null,
      "top": null,
      "visibility": null,
      "width": null
     }
    },
    "06a05c130a044130aceb1c890f21defb": {
     "model_module": "@jupyter-widgets/base",
     "model_module_version": "1.2.0",
     "model_name": "LayoutModel",
     "state": {
      "_model_module": "@jupyter-widgets/base",
      "_model_module_version": "1.2.0",
      "_model_name": "LayoutModel",
      "_view_count": null,
      "_view_module": "@jupyter-widgets/base",
      "_view_module_version": "1.2.0",
      "_view_name": "LayoutView",
      "align_content": null,
      "align_items": null,
      "align_self": null,
      "border": null,
      "bottom": null,
      "display": null,
      "flex": null,
      "flex_flow": null,
      "grid_area": null,
      "grid_auto_columns": null,
      "grid_auto_flow": null,
      "grid_auto_rows": null,
      "grid_column": null,
      "grid_gap": null,
      "grid_row": null,
      "grid_template_areas": null,
      "grid_template_columns": null,
      "grid_template_rows": null,
      "height": null,
      "justify_content": null,
      "justify_items": null,
      "left": null,
      "margin": null,
      "max_height": null,
      "max_width": null,
      "min_height": null,
      "min_width": null,
      "object_fit": null,
      "object_position": null,
      "order": null,
      "overflow": null,
      "overflow_x": null,
      "overflow_y": null,
      "padding": null,
      "right": null,
      "top": null,
      "visibility": null,
      "width": null
     }
    },
    "0886d82a82df41e4859b05ad12b3864c": {
     "model_module": "@jupyter-widgets/base",
     "model_module_version": "1.2.0",
     "model_name": "LayoutModel",
     "state": {
      "_model_module": "@jupyter-widgets/base",
      "_model_module_version": "1.2.0",
      "_model_name": "LayoutModel",
      "_view_count": null,
      "_view_module": "@jupyter-widgets/base",
      "_view_module_version": "1.2.0",
      "_view_name": "LayoutView",
      "align_content": null,
      "align_items": null,
      "align_self": null,
      "border": null,
      "bottom": null,
      "display": null,
      "flex": null,
      "flex_flow": null,
      "grid_area": null,
      "grid_auto_columns": null,
      "grid_auto_flow": null,
      "grid_auto_rows": null,
      "grid_column": null,
      "grid_gap": null,
      "grid_row": null,
      "grid_template_areas": null,
      "grid_template_columns": null,
      "grid_template_rows": null,
      "height": null,
      "justify_content": null,
      "justify_items": null,
      "left": null,
      "margin": null,
      "max_height": null,
      "max_width": null,
      "min_height": null,
      "min_width": null,
      "object_fit": null,
      "object_position": null,
      "order": null,
      "overflow": null,
      "overflow_x": null,
      "overflow_y": null,
      "padding": null,
      "right": null,
      "top": null,
      "visibility": null,
      "width": null
     }
    },
    "0d61bcd2b6aa41ef80990dc37b1b79da": {
     "model_module": "@jupyter-widgets/controls",
     "model_module_version": "1.5.0",
     "model_name": "FloatProgressModel",
     "state": {
      "_dom_classes": [],
      "_model_module": "@jupyter-widgets/controls",
      "_model_module_version": "1.5.0",
      "_model_name": "FloatProgressModel",
      "_view_count": null,
      "_view_module": "@jupyter-widgets/controls",
      "_view_module_version": "1.5.0",
      "_view_name": "ProgressView",
      "bar_style": "success",
      "description": "",
      "description_tooltip": null,
      "layout": "IPY_MODEL_6bec94da828d479d8c2429ba9510f7ba",
      "max": 10,
      "min": 0,
      "orientation": "horizontal",
      "style": "IPY_MODEL_fa9d284d5626439097a433f3fdceb649",
      "value": 10
     }
    },
    "104938142a57420ebc8bfb25cdd6e582": {
     "model_module": "@jupyter-widgets/controls",
     "model_module_version": "1.5.0",
     "model_name": "HBoxModel",
     "state": {
      "_dom_classes": [],
      "_model_module": "@jupyter-widgets/controls",
      "_model_module_version": "1.5.0",
      "_model_name": "HBoxModel",
      "_view_count": null,
      "_view_module": "@jupyter-widgets/controls",
      "_view_module_version": "1.5.0",
      "_view_name": "HBoxView",
      "box_style": "",
      "children": [
       "IPY_MODEL_7bb47bf6f5ae4267ab9762f2b1fdedfe",
       "IPY_MODEL_bca0ca7761e34dbca3eeb531ca1a1638",
       "IPY_MODEL_e9f00e5b300e491e9a8ff52a4bf2a2ca"
      ],
      "layout": "IPY_MODEL_210de7818a9d4d1090fdb3670c0f8210"
     }
    },
    "10ebcc5d193840c8a3f9a00f561d1bd8": {
     "model_module": "@jupyter-widgets/controls",
     "model_module_version": "1.5.0",
     "model_name": "HTMLModel",
     "state": {
      "_dom_classes": [],
      "_model_module": "@jupyter-widgets/controls",
      "_model_module_version": "1.5.0",
      "_model_name": "HTMLModel",
      "_view_count": null,
      "_view_module": "@jupyter-widgets/controls",
      "_view_module_version": "1.5.0",
      "_view_name": "HTMLView",
      "description": "",
      "description_tooltip": null,
      "layout": "IPY_MODEL_828d57c48a7b427da89dde7d1a8b99d7",
      "placeholder": "​",
      "style": "IPY_MODEL_d1b7adfe2ad846e0ad47fd7c3a3f89fe",
      "value": "Batches: 100%"
     }
    },
    "193e8ba6b34e4f5c8417717073781e57": {
     "model_module": "@jupyter-widgets/controls",
     "model_module_version": "1.5.0",
     "model_name": "DescriptionStyleModel",
     "state": {
      "_model_module": "@jupyter-widgets/controls",
      "_model_module_version": "1.5.0",
      "_model_name": "DescriptionStyleModel",
      "_view_count": null,
      "_view_module": "@jupyter-widgets/base",
      "_view_module_version": "1.2.0",
      "_view_name": "StyleView",
      "description_width": ""
     }
    },
    "1c4c43525f7343c29b53e1280fc1ad5a": {
     "model_module": "@jupyter-widgets/controls",
     "model_module_version": "1.5.0",
     "model_name": "FloatProgressModel",
     "state": {
      "_dom_classes": [],
      "_model_module": "@jupyter-widgets/controls",
      "_model_module_version": "1.5.0",
      "_model_name": "FloatProgressModel",
      "_view_count": null,
      "_view_module": "@jupyter-widgets/controls",
      "_view_module_version": "1.5.0",
      "_view_name": "ProgressView",
      "bar_style": "success",
      "description": "",
      "description_tooltip": null,
      "layout": "IPY_MODEL_88d87bd37023416ab28596bb81a801aa",
      "max": 10,
      "min": 0,
      "orientation": "horizontal",
      "style": "IPY_MODEL_43ad6d42b0aa45238247698f8dda58df",
      "value": 10
     }
    },
    "210de7818a9d4d1090fdb3670c0f8210": {
     "model_module": "@jupyter-widgets/base",
     "model_module_version": "1.2.0",
     "model_name": "LayoutModel",
     "state": {
      "_model_module": "@jupyter-widgets/base",
      "_model_module_version": "1.2.0",
      "_model_name": "LayoutModel",
      "_view_count": null,
      "_view_module": "@jupyter-widgets/base",
      "_view_module_version": "1.2.0",
      "_view_name": "LayoutView",
      "align_content": null,
      "align_items": null,
      "align_self": null,
      "border": null,
      "bottom": null,
      "display": null,
      "flex": null,
      "flex_flow": null,
      "grid_area": null,
      "grid_auto_columns": null,
      "grid_auto_flow": null,
      "grid_auto_rows": null,
      "grid_column": null,
      "grid_gap": null,
      "grid_row": null,
      "grid_template_areas": null,
      "grid_template_columns": null,
      "grid_template_rows": null,
      "height": null,
      "justify_content": null,
      "justify_items": null,
      "left": null,
      "margin": null,
      "max_height": null,
      "max_width": null,
      "min_height": null,
      "min_width": null,
      "object_fit": null,
      "object_position": null,
      "order": null,
      "overflow": null,
      "overflow_x": null,
      "overflow_y": null,
      "padding": null,
      "right": null,
      "top": null,
      "visibility": null,
      "width": null
     }
    },
    "2131f3d353c743c18dfb69c2ad20d671": {
     "model_module": "@jupyter-widgets/controls",
     "model_module_version": "1.5.0",
     "model_name": "HBoxModel",
     "state": {
      "_dom_classes": [],
      "_model_module": "@jupyter-widgets/controls",
      "_model_module_version": "1.5.0",
      "_model_name": "HBoxModel",
      "_view_count": null,
      "_view_module": "@jupyter-widgets/controls",
      "_view_module_version": "1.5.0",
      "_view_name": "HBoxView",
      "box_style": "",
      "children": [
       "IPY_MODEL_10ebcc5d193840c8a3f9a00f561d1bd8",
       "IPY_MODEL_9f096b7da413490797da7586d80c0cd6",
       "IPY_MODEL_2383cb3ff853465f914e3a2afd2945e4"
      ],
      "layout": "IPY_MODEL_9e25169352a04090940cea264ab46bad"
     }
    },
    "228eb1be332c4cb898d3de14f5524c30": {
     "model_module": "@jupyter-widgets/base",
     "model_module_version": "1.2.0",
     "model_name": "LayoutModel",
     "state": {
      "_model_module": "@jupyter-widgets/base",
      "_model_module_version": "1.2.0",
      "_model_name": "LayoutModel",
      "_view_count": null,
      "_view_module": "@jupyter-widgets/base",
      "_view_module_version": "1.2.0",
      "_view_name": "LayoutView",
      "align_content": null,
      "align_items": null,
      "align_self": null,
      "border": null,
      "bottom": null,
      "display": null,
      "flex": null,
      "flex_flow": null,
      "grid_area": null,
      "grid_auto_columns": null,
      "grid_auto_flow": null,
      "grid_auto_rows": null,
      "grid_column": null,
      "grid_gap": null,
      "grid_row": null,
      "grid_template_areas": null,
      "grid_template_columns": null,
      "grid_template_rows": null,
      "height": null,
      "justify_content": null,
      "justify_items": null,
      "left": null,
      "margin": null,
      "max_height": null,
      "max_width": null,
      "min_height": null,
      "min_width": null,
      "object_fit": null,
      "object_position": null,
      "order": null,
      "overflow": null,
      "overflow_x": null,
      "overflow_y": null,
      "padding": null,
      "right": null,
      "top": null,
      "visibility": null,
      "width": null
     }
    },
    "2383cb3ff853465f914e3a2afd2945e4": {
     "model_module": "@jupyter-widgets/controls",
     "model_module_version": "1.5.0",
     "model_name": "HTMLModel",
     "state": {
      "_dom_classes": [],
      "_model_module": "@jupyter-widgets/controls",
      "_model_module_version": "1.5.0",
      "_model_name": "HTMLModel",
      "_view_count": null,
      "_view_module": "@jupyter-widgets/controls",
      "_view_module_version": "1.5.0",
      "_view_name": "HTMLView",
      "description": "",
      "description_tooltip": null,
      "layout": "IPY_MODEL_81b868ae67a84d3bb81675086251ff8b",
      "placeholder": "​",
      "style": "IPY_MODEL_ff199bfd4d7d44c789192ab6ed13c873",
      "value": " 10/10 [00:00&lt;00:00, 22.77it/s]"
     }
    },
    "23ef131b5c544b1e9fed237cdcb7ae80": {
     "model_module": "@jupyter-widgets/controls",
     "model_module_version": "1.5.0",
     "model_name": "HTMLModel",
     "state": {
      "_dom_classes": [],
      "_model_module": "@jupyter-widgets/controls",
      "_model_module_version": "1.5.0",
      "_model_name": "HTMLModel",
      "_view_count": null,
      "_view_module": "@jupyter-widgets/controls",
      "_view_module_version": "1.5.0",
      "_view_name": "HTMLView",
      "description": "",
      "description_tooltip": null,
      "layout": "IPY_MODEL_72f96fa77f2d4b5ab04bf22815cf95ed",
      "placeholder": "​",
      "style": "IPY_MODEL_c250ad0798ad433280fdfb59658b8994",
      "value": " 10/10 [00:00&lt;00:00, 14.42it/s]"
     }
    },
    "252d0fa420f441e193e3ee9988f0ee44": {
     "model_module": "@jupyter-widgets/base",
     "model_module_version": "1.2.0",
     "model_name": "LayoutModel",
     "state": {
      "_model_module": "@jupyter-widgets/base",
      "_model_module_version": "1.2.0",
      "_model_name": "LayoutModel",
      "_view_count": null,
      "_view_module": "@jupyter-widgets/base",
      "_view_module_version": "1.2.0",
      "_view_name": "LayoutView",
      "align_content": null,
      "align_items": null,
      "align_self": null,
      "border": null,
      "bottom": null,
      "display": null,
      "flex": null,
      "flex_flow": null,
      "grid_area": null,
      "grid_auto_columns": null,
      "grid_auto_flow": null,
      "grid_auto_rows": null,
      "grid_column": null,
      "grid_gap": null,
      "grid_row": null,
      "grid_template_areas": null,
      "grid_template_columns": null,
      "grid_template_rows": null,
      "height": null,
      "justify_content": null,
      "justify_items": null,
      "left": null,
      "margin": null,
      "max_height": null,
      "max_width": null,
      "min_height": null,
      "min_width": null,
      "object_fit": null,
      "object_position": null,
      "order": null,
      "overflow": null,
      "overflow_x": null,
      "overflow_y": null,
      "padding": null,
      "right": null,
      "top": null,
      "visibility": null,
      "width": null
     }
    },
    "25a495b325124b33bd066f36219799ba": {
     "model_module": "@jupyter-widgets/controls",
     "model_module_version": "1.5.0",
     "model_name": "DescriptionStyleModel",
     "state": {
      "_model_module": "@jupyter-widgets/controls",
      "_model_module_version": "1.5.0",
      "_model_name": "DescriptionStyleModel",
      "_view_count": null,
      "_view_module": "@jupyter-widgets/base",
      "_view_module_version": "1.2.0",
      "_view_name": "StyleView",
      "description_width": ""
     }
    },
    "2aa78854b99b4cfbb2ba1b4d48154719": {
     "model_module": "@jupyter-widgets/controls",
     "model_module_version": "1.5.0",
     "model_name": "ProgressStyleModel",
     "state": {
      "_model_module": "@jupyter-widgets/controls",
      "_model_module_version": "1.5.0",
      "_model_name": "ProgressStyleModel",
      "_view_count": null,
      "_view_module": "@jupyter-widgets/base",
      "_view_module_version": "1.2.0",
      "_view_name": "StyleView",
      "bar_color": null,
      "description_width": ""
     }
    },
    "2bfa3400c46c4872b8330def045b5cb7": {
     "model_module": "@jupyter-widgets/controls",
     "model_module_version": "1.5.0",
     "model_name": "HTMLModel",
     "state": {
      "_dom_classes": [],
      "_model_module": "@jupyter-widgets/controls",
      "_model_module_version": "1.5.0",
      "_model_name": "HTMLModel",
      "_view_count": null,
      "_view_module": "@jupyter-widgets/controls",
      "_view_module_version": "1.5.0",
      "_view_name": "HTMLView",
      "description": "",
      "description_tooltip": null,
      "layout": "IPY_MODEL_44fbfa43efbe4386be1b2cd7722e39d4",
      "placeholder": "​",
      "style": "IPY_MODEL_faba96e4026a4e84ad2cb8c30527bad6",
      "value": "Batches: 100%"
     }
    },
    "2f0ff2ec2d4a48078073a708e0b7f14a": {
     "model_module": "@jupyter-widgets/base",
     "model_module_version": "1.2.0",
     "model_name": "LayoutModel",
     "state": {
      "_model_module": "@jupyter-widgets/base",
      "_model_module_version": "1.2.0",
      "_model_name": "LayoutModel",
      "_view_count": null,
      "_view_module": "@jupyter-widgets/base",
      "_view_module_version": "1.2.0",
      "_view_name": "LayoutView",
      "align_content": null,
      "align_items": null,
      "align_self": null,
      "border": null,
      "bottom": null,
      "display": null,
      "flex": null,
      "flex_flow": null,
      "grid_area": null,
      "grid_auto_columns": null,
      "grid_auto_flow": null,
      "grid_auto_rows": null,
      "grid_column": null,
      "grid_gap": null,
      "grid_row": null,
      "grid_template_areas": null,
      "grid_template_columns": null,
      "grid_template_rows": null,
      "height": null,
      "justify_content": null,
      "justify_items": null,
      "left": null,
      "margin": null,
      "max_height": null,
      "max_width": null,
      "min_height": null,
      "min_width": null,
      "object_fit": null,
      "object_position": null,
      "order": null,
      "overflow": null,
      "overflow_x": null,
      "overflow_y": null,
      "padding": null,
      "right": null,
      "top": null,
      "visibility": null,
      "width": null
     }
    },
    "3cfefe64dcee440eafa7fba157d93dd8": {
     "model_module": "@jupyter-widgets/base",
     "model_module_version": "1.2.0",
     "model_name": "LayoutModel",
     "state": {
      "_model_module": "@jupyter-widgets/base",
      "_model_module_version": "1.2.0",
      "_model_name": "LayoutModel",
      "_view_count": null,
      "_view_module": "@jupyter-widgets/base",
      "_view_module_version": "1.2.0",
      "_view_name": "LayoutView",
      "align_content": null,
      "align_items": null,
      "align_self": null,
      "border": null,
      "bottom": null,
      "display": null,
      "flex": null,
      "flex_flow": null,
      "grid_area": null,
      "grid_auto_columns": null,
      "grid_auto_flow": null,
      "grid_auto_rows": null,
      "grid_column": null,
      "grid_gap": null,
      "grid_row": null,
      "grid_template_areas": null,
      "grid_template_columns": null,
      "grid_template_rows": null,
      "height": null,
      "justify_content": null,
      "justify_items": null,
      "left": null,
      "margin": null,
      "max_height": null,
      "max_width": null,
      "min_height": null,
      "min_width": null,
      "object_fit": null,
      "object_position": null,
      "order": null,
      "overflow": null,
      "overflow_x": null,
      "overflow_y": null,
      "padding": null,
      "right": null,
      "top": null,
      "visibility": null,
      "width": null
     }
    },
    "3fd652f90ff84f779ba51d7e6b5825e7": {
     "model_module": "@jupyter-widgets/controls",
     "model_module_version": "1.5.0",
     "model_name": "DescriptionStyleModel",
     "state": {
      "_model_module": "@jupyter-widgets/controls",
      "_model_module_version": "1.5.0",
      "_model_name": "DescriptionStyleModel",
      "_view_count": null,
      "_view_module": "@jupyter-widgets/base",
      "_view_module_version": "1.2.0",
      "_view_name": "StyleView",
      "description_width": ""
     }
    },
    "41830d2435b84fdab4396c2249ff82e7": {
     "model_module": "@jupyter-widgets/base",
     "model_module_version": "1.2.0",
     "model_name": "LayoutModel",
     "state": {
      "_model_module": "@jupyter-widgets/base",
      "_model_module_version": "1.2.0",
      "_model_name": "LayoutModel",
      "_view_count": null,
      "_view_module": "@jupyter-widgets/base",
      "_view_module_version": "1.2.0",
      "_view_name": "LayoutView",
      "align_content": null,
      "align_items": null,
      "align_self": null,
      "border": null,
      "bottom": null,
      "display": null,
      "flex": null,
      "flex_flow": null,
      "grid_area": null,
      "grid_auto_columns": null,
      "grid_auto_flow": null,
      "grid_auto_rows": null,
      "grid_column": null,
      "grid_gap": null,
      "grid_row": null,
      "grid_template_areas": null,
      "grid_template_columns": null,
      "grid_template_rows": null,
      "height": null,
      "justify_content": null,
      "justify_items": null,
      "left": null,
      "margin": null,
      "max_height": null,
      "max_width": null,
      "min_height": null,
      "min_width": null,
      "object_fit": null,
      "object_position": null,
      "order": null,
      "overflow": null,
      "overflow_x": null,
      "overflow_y": null,
      "padding": null,
      "right": null,
      "top": null,
      "visibility": null,
      "width": null
     }
    },
    "423682ad816b4901b606d3fd26624a19": {
     "model_module": "@jupyter-widgets/base",
     "model_module_version": "1.2.0",
     "model_name": "LayoutModel",
     "state": {
      "_model_module": "@jupyter-widgets/base",
      "_model_module_version": "1.2.0",
      "_model_name": "LayoutModel",
      "_view_count": null,
      "_view_module": "@jupyter-widgets/base",
      "_view_module_version": "1.2.0",
      "_view_name": "LayoutView",
      "align_content": null,
      "align_items": null,
      "align_self": null,
      "border": null,
      "bottom": null,
      "display": null,
      "flex": null,
      "flex_flow": null,
      "grid_area": null,
      "grid_auto_columns": null,
      "grid_auto_flow": null,
      "grid_auto_rows": null,
      "grid_column": null,
      "grid_gap": null,
      "grid_row": null,
      "grid_template_areas": null,
      "grid_template_columns": null,
      "grid_template_rows": null,
      "height": null,
      "justify_content": null,
      "justify_items": null,
      "left": null,
      "margin": null,
      "max_height": null,
      "max_width": null,
      "min_height": null,
      "min_width": null,
      "object_fit": null,
      "object_position": null,
      "order": null,
      "overflow": null,
      "overflow_x": null,
      "overflow_y": null,
      "padding": null,
      "right": null,
      "top": null,
      "visibility": null,
      "width": null
     }
    },
    "43915c773aaa4ae3a41b9847b6bdfdae": {
     "model_module": "@jupyter-widgets/controls",
     "model_module_version": "1.5.0",
     "model_name": "DescriptionStyleModel",
     "state": {
      "_model_module": "@jupyter-widgets/controls",
      "_model_module_version": "1.5.0",
      "_model_name": "DescriptionStyleModel",
      "_view_count": null,
      "_view_module": "@jupyter-widgets/base",
      "_view_module_version": "1.2.0",
      "_view_name": "StyleView",
      "description_width": ""
     }
    },
    "43ad6d42b0aa45238247698f8dda58df": {
     "model_module": "@jupyter-widgets/controls",
     "model_module_version": "1.5.0",
     "model_name": "ProgressStyleModel",
     "state": {
      "_model_module": "@jupyter-widgets/controls",
      "_model_module_version": "1.5.0",
      "_model_name": "ProgressStyleModel",
      "_view_count": null,
      "_view_module": "@jupyter-widgets/base",
      "_view_module_version": "1.2.0",
      "_view_name": "StyleView",
      "bar_color": null,
      "description_width": ""
     }
    },
    "44f9c52ab74b45388dd5ffacbd635362": {
     "model_module": "@jupyter-widgets/base",
     "model_module_version": "1.2.0",
     "model_name": "LayoutModel",
     "state": {
      "_model_module": "@jupyter-widgets/base",
      "_model_module_version": "1.2.0",
      "_model_name": "LayoutModel",
      "_view_count": null,
      "_view_module": "@jupyter-widgets/base",
      "_view_module_version": "1.2.0",
      "_view_name": "LayoutView",
      "align_content": null,
      "align_items": null,
      "align_self": null,
      "border": null,
      "bottom": null,
      "display": null,
      "flex": null,
      "flex_flow": null,
      "grid_area": null,
      "grid_auto_columns": null,
      "grid_auto_flow": null,
      "grid_auto_rows": null,
      "grid_column": null,
      "grid_gap": null,
      "grid_row": null,
      "grid_template_areas": null,
      "grid_template_columns": null,
      "grid_template_rows": null,
      "height": null,
      "justify_content": null,
      "justify_items": null,
      "left": null,
      "margin": null,
      "max_height": null,
      "max_width": null,
      "min_height": null,
      "min_width": null,
      "object_fit": null,
      "object_position": null,
      "order": null,
      "overflow": null,
      "overflow_x": null,
      "overflow_y": null,
      "padding": null,
      "right": null,
      "top": null,
      "visibility": null,
      "width": null
     }
    },
    "44fbfa43efbe4386be1b2cd7722e39d4": {
     "model_module": "@jupyter-widgets/base",
     "model_module_version": "1.2.0",
     "model_name": "LayoutModel",
     "state": {
      "_model_module": "@jupyter-widgets/base",
      "_model_module_version": "1.2.0",
      "_model_name": "LayoutModel",
      "_view_count": null,
      "_view_module": "@jupyter-widgets/base",
      "_view_module_version": "1.2.0",
      "_view_name": "LayoutView",
      "align_content": null,
      "align_items": null,
      "align_self": null,
      "border": null,
      "bottom": null,
      "display": null,
      "flex": null,
      "flex_flow": null,
      "grid_area": null,
      "grid_auto_columns": null,
      "grid_auto_flow": null,
      "grid_auto_rows": null,
      "grid_column": null,
      "grid_gap": null,
      "grid_row": null,
      "grid_template_areas": null,
      "grid_template_columns": null,
      "grid_template_rows": null,
      "height": null,
      "justify_content": null,
      "justify_items": null,
      "left": null,
      "margin": null,
      "max_height": null,
      "max_width": null,
      "min_height": null,
      "min_width": null,
      "object_fit": null,
      "object_position": null,
      "order": null,
      "overflow": null,
      "overflow_x": null,
      "overflow_y": null,
      "padding": null,
      "right": null,
      "top": null,
      "visibility": null,
      "width": null
     }
    },
    "4a592023d76544dd81b67300486e0304": {
     "model_module": "@jupyter-widgets/controls",
     "model_module_version": "1.5.0",
     "model_name": "FloatProgressModel",
     "state": {
      "_dom_classes": [],
      "_model_module": "@jupyter-widgets/controls",
      "_model_module_version": "1.5.0",
      "_model_name": "FloatProgressModel",
      "_view_count": null,
      "_view_module": "@jupyter-widgets/controls",
      "_view_module_version": "1.5.0",
      "_view_name": "ProgressView",
      "bar_style": "success",
      "description": "",
      "description_tooltip": null,
      "layout": "IPY_MODEL_5973452c60364bf2aca05f84e1f36e61",
      "max": 10,
      "min": 0,
      "orientation": "horizontal",
      "style": "IPY_MODEL_a39f26d0ac6a4eaa8a31d708d7f8056f",
      "value": 10
     }
    },
    "4b38530d54034c5192ea4f1f452bbd26": {
     "model_module": "@jupyter-widgets/controls",
     "model_module_version": "1.5.0",
     "model_name": "HTMLModel",
     "state": {
      "_dom_classes": [],
      "_model_module": "@jupyter-widgets/controls",
      "_model_module_version": "1.5.0",
      "_model_name": "HTMLModel",
      "_view_count": null,
      "_view_module": "@jupyter-widgets/controls",
      "_view_module_version": "1.5.0",
      "_view_name": "HTMLView",
      "description": "",
      "description_tooltip": null,
      "layout": "IPY_MODEL_06a05c130a044130aceb1c890f21defb",
      "placeholder": "​",
      "style": "IPY_MODEL_193e8ba6b34e4f5c8417717073781e57",
      "value": " 10/10 [00:00&lt;00:00, 20.52it/s]"
     }
    },
    "4b8bca1ca33743678221d7ed338a2729": {
     "model_module": "@jupyter-widgets/base",
     "model_module_version": "1.2.0",
     "model_name": "LayoutModel",
     "state": {
      "_model_module": "@jupyter-widgets/base",
      "_model_module_version": "1.2.0",
      "_model_name": "LayoutModel",
      "_view_count": null,
      "_view_module": "@jupyter-widgets/base",
      "_view_module_version": "1.2.0",
      "_view_name": "LayoutView",
      "align_content": null,
      "align_items": null,
      "align_self": null,
      "border": null,
      "bottom": null,
      "display": null,
      "flex": null,
      "flex_flow": null,
      "grid_area": null,
      "grid_auto_columns": null,
      "grid_auto_flow": null,
      "grid_auto_rows": null,
      "grid_column": null,
      "grid_gap": null,
      "grid_row": null,
      "grid_template_areas": null,
      "grid_template_columns": null,
      "grid_template_rows": null,
      "height": null,
      "justify_content": null,
      "justify_items": null,
      "left": null,
      "margin": null,
      "max_height": null,
      "max_width": null,
      "min_height": null,
      "min_width": null,
      "object_fit": null,
      "object_position": null,
      "order": null,
      "overflow": null,
      "overflow_x": null,
      "overflow_y": null,
      "padding": null,
      "right": null,
      "top": null,
      "visibility": null,
      "width": null
     }
    },
    "4ed59a92f4c646a6841383acc31e063c": {
     "model_module": "@jupyter-widgets/controls",
     "model_module_version": "1.5.0",
     "model_name": "ProgressStyleModel",
     "state": {
      "_model_module": "@jupyter-widgets/controls",
      "_model_module_version": "1.5.0",
      "_model_name": "ProgressStyleModel",
      "_view_count": null,
      "_view_module": "@jupyter-widgets/base",
      "_view_module_version": "1.2.0",
      "_view_name": "StyleView",
      "bar_color": null,
      "description_width": ""
     }
    },
    "4f50b918a61649ee8a48411b966c3e3c": {
     "model_module": "@jupyter-widgets/controls",
     "model_module_version": "1.5.0",
     "model_name": "HBoxModel",
     "state": {
      "_dom_classes": [],
      "_model_module": "@jupyter-widgets/controls",
      "_model_module_version": "1.5.0",
      "_model_name": "HBoxModel",
      "_view_count": null,
      "_view_module": "@jupyter-widgets/controls",
      "_view_module_version": "1.5.0",
      "_view_name": "HBoxView",
      "box_style": "",
      "children": [
       "IPY_MODEL_d01d62d3453a41ae8cb2a0ee0c9e435d",
       "IPY_MODEL_deac8930d92e44028acd82dfba7191a2",
       "IPY_MODEL_c74e2809efe54c4bbfb4add920c26322"
      ],
      "layout": "IPY_MODEL_cc5010206a5b41e98b12779218265f9e"
     }
    },
    "51205de2b44540ef87d5b563556f6c42": {
     "model_module": "@jupyter-widgets/base",
     "model_module_version": "1.2.0",
     "model_name": "LayoutModel",
     "state": {
      "_model_module": "@jupyter-widgets/base",
      "_model_module_version": "1.2.0",
      "_model_name": "LayoutModel",
      "_view_count": null,
      "_view_module": "@jupyter-widgets/base",
      "_view_module_version": "1.2.0",
      "_view_name": "LayoutView",
      "align_content": null,
      "align_items": null,
      "align_self": null,
      "border": null,
      "bottom": null,
      "display": null,
      "flex": null,
      "flex_flow": null,
      "grid_area": null,
      "grid_auto_columns": null,
      "grid_auto_flow": null,
      "grid_auto_rows": null,
      "grid_column": null,
      "grid_gap": null,
      "grid_row": null,
      "grid_template_areas": null,
      "grid_template_columns": null,
      "grid_template_rows": null,
      "height": null,
      "justify_content": null,
      "justify_items": null,
      "left": null,
      "margin": null,
      "max_height": null,
      "max_width": null,
      "min_height": null,
      "min_width": null,
      "object_fit": null,
      "object_position": null,
      "order": null,
      "overflow": null,
      "overflow_x": null,
      "overflow_y": null,
      "padding": null,
      "right": null,
      "top": null,
      "visibility": null,
      "width": null
     }
    },
    "515aefed55dc437b8193c4995553c25f": {
     "model_module": "@jupyter-widgets/base",
     "model_module_version": "1.2.0",
     "model_name": "LayoutModel",
     "state": {
      "_model_module": "@jupyter-widgets/base",
      "_model_module_version": "1.2.0",
      "_model_name": "LayoutModel",
      "_view_count": null,
      "_view_module": "@jupyter-widgets/base",
      "_view_module_version": "1.2.0",
      "_view_name": "LayoutView",
      "align_content": null,
      "align_items": null,
      "align_self": null,
      "border": null,
      "bottom": null,
      "display": null,
      "flex": null,
      "flex_flow": null,
      "grid_area": null,
      "grid_auto_columns": null,
      "grid_auto_flow": null,
      "grid_auto_rows": null,
      "grid_column": null,
      "grid_gap": null,
      "grid_row": null,
      "grid_template_areas": null,
      "grid_template_columns": null,
      "grid_template_rows": null,
      "height": null,
      "justify_content": null,
      "justify_items": null,
      "left": null,
      "margin": null,
      "max_height": null,
      "max_width": null,
      "min_height": null,
      "min_width": null,
      "object_fit": null,
      "object_position": null,
      "order": null,
      "overflow": null,
      "overflow_x": null,
      "overflow_y": null,
      "padding": null,
      "right": null,
      "top": null,
      "visibility": null,
      "width": null
     }
    },
    "55a2033117a744959fd02dc7e4179c42": {
     "model_module": "@jupyter-widgets/controls",
     "model_module_version": "1.5.0",
     "model_name": "FloatProgressModel",
     "state": {
      "_dom_classes": [],
      "_model_module": "@jupyter-widgets/controls",
      "_model_module_version": "1.5.0",
      "_model_name": "FloatProgressModel",
      "_view_count": null,
      "_view_module": "@jupyter-widgets/controls",
      "_view_module_version": "1.5.0",
      "_view_name": "ProgressView",
      "bar_style": "success",
      "description": "",
      "description_tooltip": null,
      "layout": "IPY_MODEL_41830d2435b84fdab4396c2249ff82e7",
      "max": 10,
      "min": 0,
      "orientation": "horizontal",
      "style": "IPY_MODEL_61509d88f5e24c1f8c3480b0b92d579d",
      "value": 10
     }
    },
    "5813be26a276456db31271618f3a58c5": {
     "model_module": "@jupyter-widgets/base",
     "model_module_version": "1.2.0",
     "model_name": "LayoutModel",
     "state": {
      "_model_module": "@jupyter-widgets/base",
      "_model_module_version": "1.2.0",
      "_model_name": "LayoutModel",
      "_view_count": null,
      "_view_module": "@jupyter-widgets/base",
      "_view_module_version": "1.2.0",
      "_view_name": "LayoutView",
      "align_content": null,
      "align_items": null,
      "align_self": null,
      "border": null,
      "bottom": null,
      "display": null,
      "flex": null,
      "flex_flow": null,
      "grid_area": null,
      "grid_auto_columns": null,
      "grid_auto_flow": null,
      "grid_auto_rows": null,
      "grid_column": null,
      "grid_gap": null,
      "grid_row": null,
      "grid_template_areas": null,
      "grid_template_columns": null,
      "grid_template_rows": null,
      "height": null,
      "justify_content": null,
      "justify_items": null,
      "left": null,
      "margin": null,
      "max_height": null,
      "max_width": null,
      "min_height": null,
      "min_width": null,
      "object_fit": null,
      "object_position": null,
      "order": null,
      "overflow": null,
      "overflow_x": null,
      "overflow_y": null,
      "padding": null,
      "right": null,
      "top": null,
      "visibility": null,
      "width": null
     }
    },
    "5973452c60364bf2aca05f84e1f36e61": {
     "model_module": "@jupyter-widgets/base",
     "model_module_version": "1.2.0",
     "model_name": "LayoutModel",
     "state": {
      "_model_module": "@jupyter-widgets/base",
      "_model_module_version": "1.2.0",
      "_model_name": "LayoutModel",
      "_view_count": null,
      "_view_module": "@jupyter-widgets/base",
      "_view_module_version": "1.2.0",
      "_view_name": "LayoutView",
      "align_content": null,
      "align_items": null,
      "align_self": null,
      "border": null,
      "bottom": null,
      "display": null,
      "flex": null,
      "flex_flow": null,
      "grid_area": null,
      "grid_auto_columns": null,
      "grid_auto_flow": null,
      "grid_auto_rows": null,
      "grid_column": null,
      "grid_gap": null,
      "grid_row": null,
      "grid_template_areas": null,
      "grid_template_columns": null,
      "grid_template_rows": null,
      "height": null,
      "justify_content": null,
      "justify_items": null,
      "left": null,
      "margin": null,
      "max_height": null,
      "max_width": null,
      "min_height": null,
      "min_width": null,
      "object_fit": null,
      "object_position": null,
      "order": null,
      "overflow": null,
      "overflow_x": null,
      "overflow_y": null,
      "padding": null,
      "right": null,
      "top": null,
      "visibility": null,
      "width": null
     }
    },
    "5a0bef46a47940d7a1bab6f644765fc9": {
     "model_module": "@jupyter-widgets/controls",
     "model_module_version": "1.5.0",
     "model_name": "HBoxModel",
     "state": {
      "_dom_classes": [],
      "_model_module": "@jupyter-widgets/controls",
      "_model_module_version": "1.5.0",
      "_model_name": "HBoxModel",
      "_view_count": null,
      "_view_module": "@jupyter-widgets/controls",
      "_view_module_version": "1.5.0",
      "_view_name": "HBoxView",
      "box_style": "",
      "children": [
       "IPY_MODEL_012088fc48b04f688abcded2e2de7458",
       "IPY_MODEL_b69f577dca724144a2774a1f06c77b22",
       "IPY_MODEL_23ef131b5c544b1e9fed237cdcb7ae80"
      ],
      "layout": "IPY_MODEL_3cfefe64dcee440eafa7fba157d93dd8"
     }
    },
    "5b3565846eb74fe9bb1f966a327102fb": {
     "model_module": "@jupyter-widgets/controls",
     "model_module_version": "1.5.0",
     "model_name": "HTMLModel",
     "state": {
      "_dom_classes": [],
      "_model_module": "@jupyter-widgets/controls",
      "_model_module_version": "1.5.0",
      "_model_name": "HTMLModel",
      "_view_count": null,
      "_view_module": "@jupyter-widgets/controls",
      "_view_module_version": "1.5.0",
      "_view_name": "HTMLView",
      "description": "",
      "description_tooltip": null,
      "layout": "IPY_MODEL_65f51c3e05bb4197ac351b01387d02fb",
      "placeholder": "​",
      "style": "IPY_MODEL_d6a6b06840644eb999c19e39c234a2f2",
      "value": "Batches: 100%"
     }
    },
    "5baf31d963ad4566afb7ce930b8202ec": {
     "model_module": "@jupyter-widgets/controls",
     "model_module_version": "1.5.0",
     "model_name": "HBoxModel",
     "state": {
      "_dom_classes": [],
      "_model_module": "@jupyter-widgets/controls",
      "_model_module_version": "1.5.0",
      "_model_name": "HBoxModel",
      "_view_count": null,
      "_view_module": "@jupyter-widgets/controls",
      "_view_module_version": "1.5.0",
      "_view_name": "HBoxView",
      "box_style": "",
      "children": [
       "IPY_MODEL_c9289e174fae4e4ea622cee1876701b6",
       "IPY_MODEL_0d61bcd2b6aa41ef80990dc37b1b79da",
       "IPY_MODEL_ba171ff28c1e4404a668dc5b3c99cbcb"
      ],
      "layout": "IPY_MODEL_0886d82a82df41e4859b05ad12b3864c"
     }
    },
    "5d67471453ac431fb1a5e6569585f5f9": {
     "model_module": "@jupyter-widgets/base",
     "model_module_version": "1.2.0",
     "model_name": "LayoutModel",
     "state": {
      "_model_module": "@jupyter-widgets/base",
      "_model_module_version": "1.2.0",
      "_model_name": "LayoutModel",
      "_view_count": null,
      "_view_module": "@jupyter-widgets/base",
      "_view_module_version": "1.2.0",
      "_view_name": "LayoutView",
      "align_content": null,
      "align_items": null,
      "align_self": null,
      "border": null,
      "bottom": null,
      "display": null,
      "flex": null,
      "flex_flow": null,
      "grid_area": null,
      "grid_auto_columns": null,
      "grid_auto_flow": null,
      "grid_auto_rows": null,
      "grid_column": null,
      "grid_gap": null,
      "grid_row": null,
      "grid_template_areas": null,
      "grid_template_columns": null,
      "grid_template_rows": null,
      "height": null,
      "justify_content": null,
      "justify_items": null,
      "left": null,
      "margin": null,
      "max_height": null,
      "max_width": null,
      "min_height": null,
      "min_width": null,
      "object_fit": null,
      "object_position": null,
      "order": null,
      "overflow": null,
      "overflow_x": null,
      "overflow_y": null,
      "padding": null,
      "right": null,
      "top": null,
      "visibility": null,
      "width": null
     }
    },
    "61509d88f5e24c1f8c3480b0b92d579d": {
     "model_module": "@jupyter-widgets/controls",
     "model_module_version": "1.5.0",
     "model_name": "ProgressStyleModel",
     "state": {
      "_model_module": "@jupyter-widgets/controls",
      "_model_module_version": "1.5.0",
      "_model_name": "ProgressStyleModel",
      "_view_count": null,
      "_view_module": "@jupyter-widgets/base",
      "_view_module_version": "1.2.0",
      "_view_name": "StyleView",
      "bar_color": null,
      "description_width": ""
     }
    },
    "629ad50c45054111b73e5537cdabc1d3": {
     "model_module": "@jupyter-widgets/controls",
     "model_module_version": "1.5.0",
     "model_name": "DescriptionStyleModel",
     "state": {
      "_model_module": "@jupyter-widgets/controls",
      "_model_module_version": "1.5.0",
      "_model_name": "DescriptionStyleModel",
      "_view_count": null,
      "_view_module": "@jupyter-widgets/base",
      "_view_module_version": "1.2.0",
      "_view_name": "StyleView",
      "description_width": ""
     }
    },
    "64336973210b44aa9453a27173d98935": {
     "model_module": "@jupyter-widgets/base",
     "model_module_version": "1.2.0",
     "model_name": "LayoutModel",
     "state": {
      "_model_module": "@jupyter-widgets/base",
      "_model_module_version": "1.2.0",
      "_model_name": "LayoutModel",
      "_view_count": null,
      "_view_module": "@jupyter-widgets/base",
      "_view_module_version": "1.2.0",
      "_view_name": "LayoutView",
      "align_content": null,
      "align_items": null,
      "align_self": null,
      "border": null,
      "bottom": null,
      "display": null,
      "flex": null,
      "flex_flow": null,
      "grid_area": null,
      "grid_auto_columns": null,
      "grid_auto_flow": null,
      "grid_auto_rows": null,
      "grid_column": null,
      "grid_gap": null,
      "grid_row": null,
      "grid_template_areas": null,
      "grid_template_columns": null,
      "grid_template_rows": null,
      "height": null,
      "justify_content": null,
      "justify_items": null,
      "left": null,
      "margin": null,
      "max_height": null,
      "max_width": null,
      "min_height": null,
      "min_width": null,
      "object_fit": null,
      "object_position": null,
      "order": null,
      "overflow": null,
      "overflow_x": null,
      "overflow_y": null,
      "padding": null,
      "right": null,
      "top": null,
      "visibility": null,
      "width": null
     }
    },
    "65f51c3e05bb4197ac351b01387d02fb": {
     "model_module": "@jupyter-widgets/base",
     "model_module_version": "1.2.0",
     "model_name": "LayoutModel",
     "state": {
      "_model_module": "@jupyter-widgets/base",
      "_model_module_version": "1.2.0",
      "_model_name": "LayoutModel",
      "_view_count": null,
      "_view_module": "@jupyter-widgets/base",
      "_view_module_version": "1.2.0",
      "_view_name": "LayoutView",
      "align_content": null,
      "align_items": null,
      "align_self": null,
      "border": null,
      "bottom": null,
      "display": null,
      "flex": null,
      "flex_flow": null,
      "grid_area": null,
      "grid_auto_columns": null,
      "grid_auto_flow": null,
      "grid_auto_rows": null,
      "grid_column": null,
      "grid_gap": null,
      "grid_row": null,
      "grid_template_areas": null,
      "grid_template_columns": null,
      "grid_template_rows": null,
      "height": null,
      "justify_content": null,
      "justify_items": null,
      "left": null,
      "margin": null,
      "max_height": null,
      "max_width": null,
      "min_height": null,
      "min_width": null,
      "object_fit": null,
      "object_position": null,
      "order": null,
      "overflow": null,
      "overflow_x": null,
      "overflow_y": null,
      "padding": null,
      "right": null,
      "top": null,
      "visibility": null,
      "width": null
     }
    },
    "67728351b46a4c5b85c30efb514a3387": {
     "model_module": "@jupyter-widgets/controls",
     "model_module_version": "1.5.0",
     "model_name": "DescriptionStyleModel",
     "state": {
      "_model_module": "@jupyter-widgets/controls",
      "_model_module_version": "1.5.0",
      "_model_name": "DescriptionStyleModel",
      "_view_count": null,
      "_view_module": "@jupyter-widgets/base",
      "_view_module_version": "1.2.0",
      "_view_name": "StyleView",
      "description_width": ""
     }
    },
    "6b3749469888449d8a2fcd2b352022d7": {
     "model_module": "@jupyter-widgets/controls",
     "model_module_version": "1.5.0",
     "model_name": "HTMLModel",
     "state": {
      "_dom_classes": [],
      "_model_module": "@jupyter-widgets/controls",
      "_model_module_version": "1.5.0",
      "_model_name": "HTMLModel",
      "_view_count": null,
      "_view_module": "@jupyter-widgets/controls",
      "_view_module_version": "1.5.0",
      "_view_name": "HTMLView",
      "description": "",
      "description_tooltip": null,
      "layout": "IPY_MODEL_f095fa8279984f098d58ef7fa36c1fc9",
      "placeholder": "​",
      "style": "IPY_MODEL_67728351b46a4c5b85c30efb514a3387",
      "value": " 10/10 [00:00&lt;00:00, 22.71it/s]"
     }
    },
    "6ba4882ad8a0414ca8e35e3781b6db92": {
     "model_module": "@jupyter-widgets/base",
     "model_module_version": "1.2.0",
     "model_name": "LayoutModel",
     "state": {
      "_model_module": "@jupyter-widgets/base",
      "_model_module_version": "1.2.0",
      "_model_name": "LayoutModel",
      "_view_count": null,
      "_view_module": "@jupyter-widgets/base",
      "_view_module_version": "1.2.0",
      "_view_name": "LayoutView",
      "align_content": null,
      "align_items": null,
      "align_self": null,
      "border": null,
      "bottom": null,
      "display": null,
      "flex": null,
      "flex_flow": null,
      "grid_area": null,
      "grid_auto_columns": null,
      "grid_auto_flow": null,
      "grid_auto_rows": null,
      "grid_column": null,
      "grid_gap": null,
      "grid_row": null,
      "grid_template_areas": null,
      "grid_template_columns": null,
      "grid_template_rows": null,
      "height": null,
      "justify_content": null,
      "justify_items": null,
      "left": null,
      "margin": null,
      "max_height": null,
      "max_width": null,
      "min_height": null,
      "min_width": null,
      "object_fit": null,
      "object_position": null,
      "order": null,
      "overflow": null,
      "overflow_x": null,
      "overflow_y": null,
      "padding": null,
      "right": null,
      "top": null,
      "visibility": null,
      "width": null
     }
    },
    "6bec94da828d479d8c2429ba9510f7ba": {
     "model_module": "@jupyter-widgets/base",
     "model_module_version": "1.2.0",
     "model_name": "LayoutModel",
     "state": {
      "_model_module": "@jupyter-widgets/base",
      "_model_module_version": "1.2.0",
      "_model_name": "LayoutModel",
      "_view_count": null,
      "_view_module": "@jupyter-widgets/base",
      "_view_module_version": "1.2.0",
      "_view_name": "LayoutView",
      "align_content": null,
      "align_items": null,
      "align_self": null,
      "border": null,
      "bottom": null,
      "display": null,
      "flex": null,
      "flex_flow": null,
      "grid_area": null,
      "grid_auto_columns": null,
      "grid_auto_flow": null,
      "grid_auto_rows": null,
      "grid_column": null,
      "grid_gap": null,
      "grid_row": null,
      "grid_template_areas": null,
      "grid_template_columns": null,
      "grid_template_rows": null,
      "height": null,
      "justify_content": null,
      "justify_items": null,
      "left": null,
      "margin": null,
      "max_height": null,
      "max_width": null,
      "min_height": null,
      "min_width": null,
      "object_fit": null,
      "object_position": null,
      "order": null,
      "overflow": null,
      "overflow_x": null,
      "overflow_y": null,
      "padding": null,
      "right": null,
      "top": null,
      "visibility": null,
      "width": null
     }
    },
    "72f96fa77f2d4b5ab04bf22815cf95ed": {
     "model_module": "@jupyter-widgets/base",
     "model_module_version": "1.2.0",
     "model_name": "LayoutModel",
     "state": {
      "_model_module": "@jupyter-widgets/base",
      "_model_module_version": "1.2.0",
      "_model_name": "LayoutModel",
      "_view_count": null,
      "_view_module": "@jupyter-widgets/base",
      "_view_module_version": "1.2.0",
      "_view_name": "LayoutView",
      "align_content": null,
      "align_items": null,
      "align_self": null,
      "border": null,
      "bottom": null,
      "display": null,
      "flex": null,
      "flex_flow": null,
      "grid_area": null,
      "grid_auto_columns": null,
      "grid_auto_flow": null,
      "grid_auto_rows": null,
      "grid_column": null,
      "grid_gap": null,
      "grid_row": null,
      "grid_template_areas": null,
      "grid_template_columns": null,
      "grid_template_rows": null,
      "height": null,
      "justify_content": null,
      "justify_items": null,
      "left": null,
      "margin": null,
      "max_height": null,
      "max_width": null,
      "min_height": null,
      "min_width": null,
      "object_fit": null,
      "object_position": null,
      "order": null,
      "overflow": null,
      "overflow_x": null,
      "overflow_y": null,
      "padding": null,
      "right": null,
      "top": null,
      "visibility": null,
      "width": null
     }
    },
    "7889de6e5d284cc1b5a69315b95f8afa": {
     "model_module": "@jupyter-widgets/controls",
     "model_module_version": "1.5.0",
     "model_name": "FloatProgressModel",
     "state": {
      "_dom_classes": [],
      "_model_module": "@jupyter-widgets/controls",
      "_model_module_version": "1.5.0",
      "_model_name": "FloatProgressModel",
      "_view_count": null,
      "_view_module": "@jupyter-widgets/controls",
      "_view_module_version": "1.5.0",
      "_view_name": "ProgressView",
      "bar_style": "success",
      "description": "",
      "description_tooltip": null,
      "layout": "IPY_MODEL_252d0fa420f441e193e3ee9988f0ee44",
      "max": 10,
      "min": 0,
      "orientation": "horizontal",
      "style": "IPY_MODEL_a7a196d580e34341bb6677047521db2b",
      "value": 10
     }
    },
    "7aa3ea07646f462487b505945d98a0c2": {
     "model_module": "@jupyter-widgets/controls",
     "model_module_version": "1.5.0",
     "model_name": "DescriptionStyleModel",
     "state": {
      "_model_module": "@jupyter-widgets/controls",
      "_model_module_version": "1.5.0",
      "_model_name": "DescriptionStyleModel",
      "_view_count": null,
      "_view_module": "@jupyter-widgets/base",
      "_view_module_version": "1.2.0",
      "_view_name": "StyleView",
      "description_width": ""
     }
    },
    "7af0fae86d3a4af8b01bdad9425dc633": {
     "model_module": "@jupyter-widgets/controls",
     "model_module_version": "1.5.0",
     "model_name": "DescriptionStyleModel",
     "state": {
      "_model_module": "@jupyter-widgets/controls",
      "_model_module_version": "1.5.0",
      "_model_name": "DescriptionStyleModel",
      "_view_count": null,
      "_view_module": "@jupyter-widgets/base",
      "_view_module_version": "1.2.0",
      "_view_name": "StyleView",
      "description_width": ""
     }
    },
    "7bb47bf6f5ae4267ab9762f2b1fdedfe": {
     "model_module": "@jupyter-widgets/controls",
     "model_module_version": "1.5.0",
     "model_name": "HTMLModel",
     "state": {
      "_dom_classes": [],
      "_model_module": "@jupyter-widgets/controls",
      "_model_module_version": "1.5.0",
      "_model_name": "HTMLModel",
      "_view_count": null,
      "_view_module": "@jupyter-widgets/controls",
      "_view_module_version": "1.5.0",
      "_view_name": "HTMLView",
      "description": "",
      "description_tooltip": null,
      "layout": "IPY_MODEL_db6a4a698a2344ceab63460f487ec1b7",
      "placeholder": "​",
      "style": "IPY_MODEL_629ad50c45054111b73e5537cdabc1d3",
      "value": "Batches: 100%"
     }
    },
    "7cd615938e844a359b7859728a740091": {
     "model_module": "@jupyter-widgets/controls",
     "model_module_version": "1.5.0",
     "model_name": "DescriptionStyleModel",
     "state": {
      "_model_module": "@jupyter-widgets/controls",
      "_model_module_version": "1.5.0",
      "_model_name": "DescriptionStyleModel",
      "_view_count": null,
      "_view_module": "@jupyter-widgets/base",
      "_view_module_version": "1.2.0",
      "_view_name": "StyleView",
      "description_width": ""
     }
    },
    "804bef47421846a6bb5f79ed3dfc1666": {
     "model_module": "@jupyter-widgets/controls",
     "model_module_version": "1.5.0",
     "model_name": "HTMLModel",
     "state": {
      "_dom_classes": [],
      "_model_module": "@jupyter-widgets/controls",
      "_model_module_version": "1.5.0",
      "_model_name": "HTMLModel",
      "_view_count": null,
      "_view_module": "@jupyter-widgets/controls",
      "_view_module_version": "1.5.0",
      "_view_name": "HTMLView",
      "description": "",
      "description_tooltip": null,
      "layout": "IPY_MODEL_5d67471453ac431fb1a5e6569585f5f9",
      "placeholder": "​",
      "style": "IPY_MODEL_7af0fae86d3a4af8b01bdad9425dc633",
      "value": " 10/10 [00:00&lt;00:00, 17.63it/s]"
     }
    },
    "805d7cd5e5dc4c85ae8af7e565698f68": {
     "model_module": "@jupyter-widgets/controls",
     "model_module_version": "1.5.0",
     "model_name": "DescriptionStyleModel",
     "state": {
      "_model_module": "@jupyter-widgets/controls",
      "_model_module_version": "1.5.0",
      "_model_name": "DescriptionStyleModel",
      "_view_count": null,
      "_view_module": "@jupyter-widgets/base",
      "_view_module_version": "1.2.0",
      "_view_name": "StyleView",
      "description_width": ""
     }
    },
    "81b868ae67a84d3bb81675086251ff8b": {
     "model_module": "@jupyter-widgets/base",
     "model_module_version": "1.2.0",
     "model_name": "LayoutModel",
     "state": {
      "_model_module": "@jupyter-widgets/base",
      "_model_module_version": "1.2.0",
      "_model_name": "LayoutModel",
      "_view_count": null,
      "_view_module": "@jupyter-widgets/base",
      "_view_module_version": "1.2.0",
      "_view_name": "LayoutView",
      "align_content": null,
      "align_items": null,
      "align_self": null,
      "border": null,
      "bottom": null,
      "display": null,
      "flex": null,
      "flex_flow": null,
      "grid_area": null,
      "grid_auto_columns": null,
      "grid_auto_flow": null,
      "grid_auto_rows": null,
      "grid_column": null,
      "grid_gap": null,
      "grid_row": null,
      "grid_template_areas": null,
      "grid_template_columns": null,
      "grid_template_rows": null,
      "height": null,
      "justify_content": null,
      "justify_items": null,
      "left": null,
      "margin": null,
      "max_height": null,
      "max_width": null,
      "min_height": null,
      "min_width": null,
      "object_fit": null,
      "object_position": null,
      "order": null,
      "overflow": null,
      "overflow_x": null,
      "overflow_y": null,
      "padding": null,
      "right": null,
      "top": null,
      "visibility": null,
      "width": null
     }
    },
    "828d57c48a7b427da89dde7d1a8b99d7": {
     "model_module": "@jupyter-widgets/base",
     "model_module_version": "1.2.0",
     "model_name": "LayoutModel",
     "state": {
      "_model_module": "@jupyter-widgets/base",
      "_model_module_version": "1.2.0",
      "_model_name": "LayoutModel",
      "_view_count": null,
      "_view_module": "@jupyter-widgets/base",
      "_view_module_version": "1.2.0",
      "_view_name": "LayoutView",
      "align_content": null,
      "align_items": null,
      "align_self": null,
      "border": null,
      "bottom": null,
      "display": null,
      "flex": null,
      "flex_flow": null,
      "grid_area": null,
      "grid_auto_columns": null,
      "grid_auto_flow": null,
      "grid_auto_rows": null,
      "grid_column": null,
      "grid_gap": null,
      "grid_row": null,
      "grid_template_areas": null,
      "grid_template_columns": null,
      "grid_template_rows": null,
      "height": null,
      "justify_content": null,
      "justify_items": null,
      "left": null,
      "margin": null,
      "max_height": null,
      "max_width": null,
      "min_height": null,
      "min_width": null,
      "object_fit": null,
      "object_position": null,
      "order": null,
      "overflow": null,
      "overflow_x": null,
      "overflow_y": null,
      "padding": null,
      "right": null,
      "top": null,
      "visibility": null,
      "width": null
     }
    },
    "83683df834df47ae87b2c1c7e80600e6": {
     "model_module": "@jupyter-widgets/controls",
     "model_module_version": "1.5.0",
     "model_name": "HBoxModel",
     "state": {
      "_dom_classes": [],
      "_model_module": "@jupyter-widgets/controls",
      "_model_module_version": "1.5.0",
      "_model_name": "HBoxModel",
      "_view_count": null,
      "_view_module": "@jupyter-widgets/controls",
      "_view_module_version": "1.5.0",
      "_view_name": "HBoxView",
      "box_style": "",
      "children": [
       "IPY_MODEL_5b3565846eb74fe9bb1f966a327102fb",
       "IPY_MODEL_4a592023d76544dd81b67300486e0304",
       "IPY_MODEL_857fa1ee22914be08d64153de668361b"
      ],
      "layout": "IPY_MODEL_423682ad816b4901b606d3fd26624a19"
     }
    },
    "84826e2194b3424d89b6fe70c6d7320a": {
     "model_module": "@jupyter-widgets/controls",
     "model_module_version": "1.5.0",
     "model_name": "DescriptionStyleModel",
     "state": {
      "_model_module": "@jupyter-widgets/controls",
      "_model_module_version": "1.5.0",
      "_model_name": "DescriptionStyleModel",
      "_view_count": null,
      "_view_module": "@jupyter-widgets/base",
      "_view_module_version": "1.2.0",
      "_view_name": "StyleView",
      "description_width": ""
     }
    },
    "84f089ded19045baa7e446977adbf5ab": {
     "model_module": "@jupyter-widgets/controls",
     "model_module_version": "1.5.0",
     "model_name": "HTMLModel",
     "state": {
      "_dom_classes": [],
      "_model_module": "@jupyter-widgets/controls",
      "_model_module_version": "1.5.0",
      "_model_name": "HTMLModel",
      "_view_count": null,
      "_view_module": "@jupyter-widgets/controls",
      "_view_module_version": "1.5.0",
      "_view_name": "HTMLView",
      "description": "",
      "description_tooltip": null,
      "layout": "IPY_MODEL_e4274cc1d42247b89f8ff9de990eb3fa",
      "placeholder": "​",
      "style": "IPY_MODEL_7cd615938e844a359b7859728a740091",
      "value": " 10/10 [00:00&lt;00:00, 14.40it/s]"
     }
    },
    "857fa1ee22914be08d64153de668361b": {
     "model_module": "@jupyter-widgets/controls",
     "model_module_version": "1.5.0",
     "model_name": "HTMLModel",
     "state": {
      "_dom_classes": [],
      "_model_module": "@jupyter-widgets/controls",
      "_model_module_version": "1.5.0",
      "_model_name": "HTMLModel",
      "_view_count": null,
      "_view_module": "@jupyter-widgets/controls",
      "_view_module_version": "1.5.0",
      "_view_name": "HTMLView",
      "description": "",
      "description_tooltip": null,
      "layout": "IPY_MODEL_ff1583c20665428da4da2d83edd48ab6",
      "placeholder": "​",
      "style": "IPY_MODEL_84826e2194b3424d89b6fe70c6d7320a",
      "value": " 10/10 [00:00&lt;00:00, 20.62it/s]"
     }
    },
    "880bd99cc27344e3b9d3c818b5513491": {
     "model_module": "@jupyter-widgets/controls",
     "model_module_version": "1.5.0",
     "model_name": "DescriptionStyleModel",
     "state": {
      "_model_module": "@jupyter-widgets/controls",
      "_model_module_version": "1.5.0",
      "_model_name": "DescriptionStyleModel",
      "_view_count": null,
      "_view_module": "@jupyter-widgets/base",
      "_view_module_version": "1.2.0",
      "_view_name": "StyleView",
      "description_width": ""
     }
    },
    "88d87bd37023416ab28596bb81a801aa": {
     "model_module": "@jupyter-widgets/base",
     "model_module_version": "1.2.0",
     "model_name": "LayoutModel",
     "state": {
      "_model_module": "@jupyter-widgets/base",
      "_model_module_version": "1.2.0",
      "_model_name": "LayoutModel",
      "_view_count": null,
      "_view_module": "@jupyter-widgets/base",
      "_view_module_version": "1.2.0",
      "_view_name": "LayoutView",
      "align_content": null,
      "align_items": null,
      "align_self": null,
      "border": null,
      "bottom": null,
      "display": null,
      "flex": null,
      "flex_flow": null,
      "grid_area": null,
      "grid_auto_columns": null,
      "grid_auto_flow": null,
      "grid_auto_rows": null,
      "grid_column": null,
      "grid_gap": null,
      "grid_row": null,
      "grid_template_areas": null,
      "grid_template_columns": null,
      "grid_template_rows": null,
      "height": null,
      "justify_content": null,
      "justify_items": null,
      "left": null,
      "margin": null,
      "max_height": null,
      "max_width": null,
      "min_height": null,
      "min_width": null,
      "object_fit": null,
      "object_position": null,
      "order": null,
      "overflow": null,
      "overflow_x": null,
      "overflow_y": null,
      "padding": null,
      "right": null,
      "top": null,
      "visibility": null,
      "width": null
     }
    },
    "8f17eddf421d44088fdb03211d89d12a": {
     "model_module": "@jupyter-widgets/controls",
     "model_module_version": "1.5.0",
     "model_name": "HBoxModel",
     "state": {
      "_dom_classes": [],
      "_model_module": "@jupyter-widgets/controls",
      "_model_module_version": "1.5.0",
      "_model_name": "HBoxModel",
      "_view_count": null,
      "_view_module": "@jupyter-widgets/controls",
      "_view_module_version": "1.5.0",
      "_view_name": "HBoxView",
      "box_style": "",
      "children": [
       "IPY_MODEL_cd7fc47891c24e5c8b137b962821377c",
       "IPY_MODEL_55a2033117a744959fd02dc7e4179c42",
       "IPY_MODEL_84f089ded19045baa7e446977adbf5ab"
      ],
      "layout": "IPY_MODEL_b002aa1e94c645faa648ff9889780b75"
     }
    },
    "9e25169352a04090940cea264ab46bad": {
     "model_module": "@jupyter-widgets/base",
     "model_module_version": "1.2.0",
     "model_name": "LayoutModel",
     "state": {
      "_model_module": "@jupyter-widgets/base",
      "_model_module_version": "1.2.0",
      "_model_name": "LayoutModel",
      "_view_count": null,
      "_view_module": "@jupyter-widgets/base",
      "_view_module_version": "1.2.0",
      "_view_name": "LayoutView",
      "align_content": null,
      "align_items": null,
      "align_self": null,
      "border": null,
      "bottom": null,
      "display": null,
      "flex": null,
      "flex_flow": null,
      "grid_area": null,
      "grid_auto_columns": null,
      "grid_auto_flow": null,
      "grid_auto_rows": null,
      "grid_column": null,
      "grid_gap": null,
      "grid_row": null,
      "grid_template_areas": null,
      "grid_template_columns": null,
      "grid_template_rows": null,
      "height": null,
      "justify_content": null,
      "justify_items": null,
      "left": null,
      "margin": null,
      "max_height": null,
      "max_width": null,
      "min_height": null,
      "min_width": null,
      "object_fit": null,
      "object_position": null,
      "order": null,
      "overflow": null,
      "overflow_x": null,
      "overflow_y": null,
      "padding": null,
      "right": null,
      "top": null,
      "visibility": null,
      "width": null
     }
    },
    "9f096b7da413490797da7586d80c0cd6": {
     "model_module": "@jupyter-widgets/controls",
     "model_module_version": "1.5.0",
     "model_name": "FloatProgressModel",
     "state": {
      "_dom_classes": [],
      "_model_module": "@jupyter-widgets/controls",
      "_model_module_version": "1.5.0",
      "_model_name": "FloatProgressModel",
      "_view_count": null,
      "_view_module": "@jupyter-widgets/controls",
      "_view_module_version": "1.5.0",
      "_view_name": "ProgressView",
      "bar_style": "success",
      "description": "",
      "description_tooltip": null,
      "layout": "IPY_MODEL_f7d1383a916a4520bc7b26dff61c0e9a",
      "max": 10,
      "min": 0,
      "orientation": "horizontal",
      "style": "IPY_MODEL_2aa78854b99b4cfbb2ba1b4d48154719",
      "value": 10
     }
    },
    "a0c476d153a048228e80c6cbfcd712ce": {
     "model_module": "@jupyter-widgets/controls",
     "model_module_version": "1.5.0",
     "model_name": "ProgressStyleModel",
     "state": {
      "_model_module": "@jupyter-widgets/controls",
      "_model_module_version": "1.5.0",
      "_model_name": "ProgressStyleModel",
      "_view_count": null,
      "_view_module": "@jupyter-widgets/base",
      "_view_module_version": "1.2.0",
      "_view_name": "StyleView",
      "bar_color": null,
      "description_width": ""
     }
    },
    "a225da241e65492c88ee69cc246f1bca": {
     "model_module": "@jupyter-widgets/controls",
     "model_module_version": "1.5.0",
     "model_name": "DescriptionStyleModel",
     "state": {
      "_model_module": "@jupyter-widgets/controls",
      "_model_module_version": "1.5.0",
      "_model_name": "DescriptionStyleModel",
      "_view_count": null,
      "_view_module": "@jupyter-widgets/base",
      "_view_module_version": "1.2.0",
      "_view_name": "StyleView",
      "description_width": ""
     }
    },
    "a39f26d0ac6a4eaa8a31d708d7f8056f": {
     "model_module": "@jupyter-widgets/controls",
     "model_module_version": "1.5.0",
     "model_name": "ProgressStyleModel",
     "state": {
      "_model_module": "@jupyter-widgets/controls",
      "_model_module_version": "1.5.0",
      "_model_name": "ProgressStyleModel",
      "_view_count": null,
      "_view_module": "@jupyter-widgets/base",
      "_view_module_version": "1.2.0",
      "_view_name": "StyleView",
      "bar_color": null,
      "description_width": ""
     }
    },
    "a651e4b39e06481fa438fc1af4a5b6ba": {
     "model_module": "@jupyter-widgets/controls",
     "model_module_version": "1.5.0",
     "model_name": "DescriptionStyleModel",
     "state": {
      "_model_module": "@jupyter-widgets/controls",
      "_model_module_version": "1.5.0",
      "_model_name": "DescriptionStyleModel",
      "_view_count": null,
      "_view_module": "@jupyter-widgets/base",
      "_view_module_version": "1.2.0",
      "_view_name": "StyleView",
      "description_width": ""
     }
    },
    "a679eeca3dde4f36a0bce31b30810a81": {
     "model_module": "@jupyter-widgets/base",
     "model_module_version": "1.2.0",
     "model_name": "LayoutModel",
     "state": {
      "_model_module": "@jupyter-widgets/base",
      "_model_module_version": "1.2.0",
      "_model_name": "LayoutModel",
      "_view_count": null,
      "_view_module": "@jupyter-widgets/base",
      "_view_module_version": "1.2.0",
      "_view_name": "LayoutView",
      "align_content": null,
      "align_items": null,
      "align_self": null,
      "border": null,
      "bottom": null,
      "display": null,
      "flex": null,
      "flex_flow": null,
      "grid_area": null,
      "grid_auto_columns": null,
      "grid_auto_flow": null,
      "grid_auto_rows": null,
      "grid_column": null,
      "grid_gap": null,
      "grid_row": null,
      "grid_template_areas": null,
      "grid_template_columns": null,
      "grid_template_rows": null,
      "height": null,
      "justify_content": null,
      "justify_items": null,
      "left": null,
      "margin": null,
      "max_height": null,
      "max_width": null,
      "min_height": null,
      "min_width": null,
      "object_fit": null,
      "object_position": null,
      "order": null,
      "overflow": null,
      "overflow_x": null,
      "overflow_y": null,
      "padding": null,
      "right": null,
      "top": null,
      "visibility": null,
      "width": null
     }
    },
    "a7a196d580e34341bb6677047521db2b": {
     "model_module": "@jupyter-widgets/controls",
     "model_module_version": "1.5.0",
     "model_name": "ProgressStyleModel",
     "state": {
      "_model_module": "@jupyter-widgets/controls",
      "_model_module_version": "1.5.0",
      "_model_name": "ProgressStyleModel",
      "_view_count": null,
      "_view_module": "@jupyter-widgets/base",
      "_view_module_version": "1.2.0",
      "_view_name": "StyleView",
      "bar_color": null,
      "description_width": ""
     }
    },
    "a9c54fbe365f480f9408752fb0bb9b9b": {
     "model_module": "@jupyter-widgets/controls",
     "model_module_version": "1.5.0",
     "model_name": "HTMLModel",
     "state": {
      "_dom_classes": [],
      "_model_module": "@jupyter-widgets/controls",
      "_model_module_version": "1.5.0",
      "_model_name": "HTMLModel",
      "_view_count": null,
      "_view_module": "@jupyter-widgets/controls",
      "_view_module_version": "1.5.0",
      "_view_name": "HTMLView",
      "description": "",
      "description_tooltip": null,
      "layout": "IPY_MODEL_aa9ca2a4d44c4d698f5143a46bc29218",
      "placeholder": "​",
      "style": "IPY_MODEL_43915c773aaa4ae3a41b9847b6bdfdae",
      "value": "Batches: 100%"
     }
    },
    "aa9ca2a4d44c4d698f5143a46bc29218": {
     "model_module": "@jupyter-widgets/base",
     "model_module_version": "1.2.0",
     "model_name": "LayoutModel",
     "state": {
      "_model_module": "@jupyter-widgets/base",
      "_model_module_version": "1.2.0",
      "_model_name": "LayoutModel",
      "_view_count": null,
      "_view_module": "@jupyter-widgets/base",
      "_view_module_version": "1.2.0",
      "_view_name": "LayoutView",
      "align_content": null,
      "align_items": null,
      "align_self": null,
      "border": null,
      "bottom": null,
      "display": null,
      "flex": null,
      "flex_flow": null,
      "grid_area": null,
      "grid_auto_columns": null,
      "grid_auto_flow": null,
      "grid_auto_rows": null,
      "grid_column": null,
      "grid_gap": null,
      "grid_row": null,
      "grid_template_areas": null,
      "grid_template_columns": null,
      "grid_template_rows": null,
      "height": null,
      "justify_content": null,
      "justify_items": null,
      "left": null,
      "margin": null,
      "max_height": null,
      "max_width": null,
      "min_height": null,
      "min_width": null,
      "object_fit": null,
      "object_position": null,
      "order": null,
      "overflow": null,
      "overflow_x": null,
      "overflow_y": null,
      "padding": null,
      "right": null,
      "top": null,
      "visibility": null,
      "width": null
     }
    },
    "acf5c3cf2f55423fbb2624f850f49db5": {
     "model_module": "@jupyter-widgets/controls",
     "model_module_version": "1.5.0",
     "model_name": "HBoxModel",
     "state": {
      "_dom_classes": [],
      "_model_module": "@jupyter-widgets/controls",
      "_model_module_version": "1.5.0",
      "_model_name": "HBoxModel",
      "_view_count": null,
      "_view_module": "@jupyter-widgets/controls",
      "_view_module_version": "1.5.0",
      "_view_name": "HBoxView",
      "box_style": "",
      "children": [
       "IPY_MODEL_a9c54fbe365f480f9408752fb0bb9b9b",
       "IPY_MODEL_ae8681bf3bbc4a0da1538b580f0ebbea",
       "IPY_MODEL_4b38530d54034c5192ea4f1f452bbd26"
      ],
      "layout": "IPY_MODEL_5813be26a276456db31271618f3a58c5"
     }
    },
    "ae8681bf3bbc4a0da1538b580f0ebbea": {
     "model_module": "@jupyter-widgets/controls",
     "model_module_version": "1.5.0",
     "model_name": "FloatProgressModel",
     "state": {
      "_dom_classes": [],
      "_model_module": "@jupyter-widgets/controls",
      "_model_module_version": "1.5.0",
      "_model_name": "FloatProgressModel",
      "_view_count": null,
      "_view_module": "@jupyter-widgets/controls",
      "_view_module_version": "1.5.0",
      "_view_name": "ProgressView",
      "bar_style": "success",
      "description": "",
      "description_tooltip": null,
      "layout": "IPY_MODEL_01b2071a14054820bf7572ddca99c09b",
      "max": 10,
      "min": 0,
      "orientation": "horizontal",
      "style": "IPY_MODEL_a0c476d153a048228e80c6cbfcd712ce",
      "value": 10
     }
    },
    "af559685733b4f4d93267e2cc481acbf": {
     "model_module": "@jupyter-widgets/controls",
     "model_module_version": "1.5.0",
     "model_name": "ProgressStyleModel",
     "state": {
      "_model_module": "@jupyter-widgets/controls",
      "_model_module_version": "1.5.0",
      "_model_name": "ProgressStyleModel",
      "_view_count": null,
      "_view_module": "@jupyter-widgets/base",
      "_view_module_version": "1.2.0",
      "_view_name": "StyleView",
      "bar_color": null,
      "description_width": ""
     }
    },
    "b002aa1e94c645faa648ff9889780b75": {
     "model_module": "@jupyter-widgets/base",
     "model_module_version": "1.2.0",
     "model_name": "LayoutModel",
     "state": {
      "_model_module": "@jupyter-widgets/base",
      "_model_module_version": "1.2.0",
      "_model_name": "LayoutModel",
      "_view_count": null,
      "_view_module": "@jupyter-widgets/base",
      "_view_module_version": "1.2.0",
      "_view_name": "LayoutView",
      "align_content": null,
      "align_items": null,
      "align_self": null,
      "border": null,
      "bottom": null,
      "display": null,
      "flex": null,
      "flex_flow": null,
      "grid_area": null,
      "grid_auto_columns": null,
      "grid_auto_flow": null,
      "grid_auto_rows": null,
      "grid_column": null,
      "grid_gap": null,
      "grid_row": null,
      "grid_template_areas": null,
      "grid_template_columns": null,
      "grid_template_rows": null,
      "height": null,
      "justify_content": null,
      "justify_items": null,
      "left": null,
      "margin": null,
      "max_height": null,
      "max_width": null,
      "min_height": null,
      "min_width": null,
      "object_fit": null,
      "object_position": null,
      "order": null,
      "overflow": null,
      "overflow_x": null,
      "overflow_y": null,
      "padding": null,
      "right": null,
      "top": null,
      "visibility": null,
      "width": null
     }
    },
    "b69f577dca724144a2774a1f06c77b22": {
     "model_module": "@jupyter-widgets/controls",
     "model_module_version": "1.5.0",
     "model_name": "FloatProgressModel",
     "state": {
      "_dom_classes": [],
      "_model_module": "@jupyter-widgets/controls",
      "_model_module_version": "1.5.0",
      "_model_name": "FloatProgressModel",
      "_view_count": null,
      "_view_module": "@jupyter-widgets/controls",
      "_view_module_version": "1.5.0",
      "_view_name": "ProgressView",
      "bar_style": "success",
      "description": "",
      "description_tooltip": null,
      "layout": "IPY_MODEL_dfd275fee85c4d6a998781797ffdcb31",
      "max": 10,
      "min": 0,
      "orientation": "horizontal",
      "style": "IPY_MODEL_4ed59a92f4c646a6841383acc31e063c",
      "value": 10
     }
    },
    "ba171ff28c1e4404a668dc5b3c99cbcb": {
     "model_module": "@jupyter-widgets/controls",
     "model_module_version": "1.5.0",
     "model_name": "HTMLModel",
     "state": {
      "_dom_classes": [],
      "_model_module": "@jupyter-widgets/controls",
      "_model_module_version": "1.5.0",
      "_model_name": "HTMLModel",
      "_view_count": null,
      "_view_module": "@jupyter-widgets/controls",
      "_view_module_version": "1.5.0",
      "_view_name": "HTMLView",
      "description": "",
      "description_tooltip": null,
      "layout": "IPY_MODEL_228eb1be332c4cb898d3de14f5524c30",
      "placeholder": "​",
      "style": "IPY_MODEL_25a495b325124b33bd066f36219799ba",
      "value": " 10/10 [00:00&lt;00:00, 11.89it/s]"
     }
    },
    "bc7aefce8ae64f28a7f0647325b769bd": {
     "model_module": "@jupyter-widgets/base",
     "model_module_version": "1.2.0",
     "model_name": "LayoutModel",
     "state": {
      "_model_module": "@jupyter-widgets/base",
      "_model_module_version": "1.2.0",
      "_model_name": "LayoutModel",
      "_view_count": null,
      "_view_module": "@jupyter-widgets/base",
      "_view_module_version": "1.2.0",
      "_view_name": "LayoutView",
      "align_content": null,
      "align_items": null,
      "align_self": null,
      "border": null,
      "bottom": null,
      "display": null,
      "flex": null,
      "flex_flow": null,
      "grid_area": null,
      "grid_auto_columns": null,
      "grid_auto_flow": null,
      "grid_auto_rows": null,
      "grid_column": null,
      "grid_gap": null,
      "grid_row": null,
      "grid_template_areas": null,
      "grid_template_columns": null,
      "grid_template_rows": null,
      "height": null,
      "justify_content": null,
      "justify_items": null,
      "left": null,
      "margin": null,
      "max_height": null,
      "max_width": null,
      "min_height": null,
      "min_width": null,
      "object_fit": null,
      "object_position": null,
      "order": null,
      "overflow": null,
      "overflow_x": null,
      "overflow_y": null,
      "padding": null,
      "right": null,
      "top": null,
      "visibility": null,
      "width": null
     }
    },
    "bca0ca7761e34dbca3eeb531ca1a1638": {
     "model_module": "@jupyter-widgets/controls",
     "model_module_version": "1.5.0",
     "model_name": "FloatProgressModel",
     "state": {
      "_dom_classes": [],
      "_model_module": "@jupyter-widgets/controls",
      "_model_module_version": "1.5.0",
      "_model_name": "FloatProgressModel",
      "_view_count": null,
      "_view_module": "@jupyter-widgets/controls",
      "_view_module_version": "1.5.0",
      "_view_name": "ProgressView",
      "bar_style": "success",
      "description": "",
      "description_tooltip": null,
      "layout": "IPY_MODEL_44f9c52ab74b45388dd5ffacbd635362",
      "max": 10,
      "min": 0,
      "orientation": "horizontal",
      "style": "IPY_MODEL_fd5f5ab9289740b6b195ea2ae2882f49",
      "value": 10
     }
    },
    "c250ad0798ad433280fdfb59658b8994": {
     "model_module": "@jupyter-widgets/controls",
     "model_module_version": "1.5.0",
     "model_name": "DescriptionStyleModel",
     "state": {
      "_model_module": "@jupyter-widgets/controls",
      "_model_module_version": "1.5.0",
      "_model_name": "DescriptionStyleModel",
      "_view_count": null,
      "_view_module": "@jupyter-widgets/base",
      "_view_module_version": "1.2.0",
      "_view_name": "StyleView",
      "description_width": ""
     }
    },
    "c74e2809efe54c4bbfb4add920c26322": {
     "model_module": "@jupyter-widgets/controls",
     "model_module_version": "1.5.0",
     "model_name": "HTMLModel",
     "state": {
      "_dom_classes": [],
      "_model_module": "@jupyter-widgets/controls",
      "_model_module_version": "1.5.0",
      "_model_name": "HTMLModel",
      "_view_count": null,
      "_view_module": "@jupyter-widgets/controls",
      "_view_module_version": "1.5.0",
      "_view_name": "HTMLView",
      "description": "",
      "description_tooltip": null,
      "layout": "IPY_MODEL_515aefed55dc437b8193c4995553c25f",
      "placeholder": "​",
      "style": "IPY_MODEL_a225da241e65492c88ee69cc246f1bca",
      "value": " 10/10 [00:00&lt;00:00, 16.14it/s]"
     }
    },
    "c769fc72dad14565a45de4e9c18ce104": {
     "model_module": "@jupyter-widgets/controls",
     "model_module_version": "1.5.0",
     "model_name": "HTMLModel",
     "state": {
      "_dom_classes": [],
      "_model_module": "@jupyter-widgets/controls",
      "_model_module_version": "1.5.0",
      "_model_name": "HTMLModel",
      "_view_count": null,
      "_view_module": "@jupyter-widgets/controls",
      "_view_module_version": "1.5.0",
      "_view_name": "HTMLView",
      "description": "",
      "description_tooltip": null,
      "layout": "IPY_MODEL_2f0ff2ec2d4a48078073a708e0b7f14a",
      "placeholder": "​",
      "style": "IPY_MODEL_805d7cd5e5dc4c85ae8af7e565698f68",
      "value": "Batches: 100%"
     }
    },
    "c7708eb3650047fa84418296858f6d5d": {
     "model_module": "@jupyter-widgets/controls",
     "model_module_version": "1.5.0",
     "model_name": "HBoxModel",
     "state": {
      "_dom_classes": [],
      "_model_module": "@jupyter-widgets/controls",
      "_model_module_version": "1.5.0",
      "_model_name": "HBoxModel",
      "_view_count": null,
      "_view_module": "@jupyter-widgets/controls",
      "_view_module_version": "1.5.0",
      "_view_name": "HBoxView",
      "box_style": "",
      "children": [
       "IPY_MODEL_2bfa3400c46c4872b8330def045b5cb7",
       "IPY_MODEL_7889de6e5d284cc1b5a69315b95f8afa",
       "IPY_MODEL_6b3749469888449d8a2fcd2b352022d7"
      ],
      "layout": "IPY_MODEL_51205de2b44540ef87d5b563556f6c42"
     }
    },
    "c9289e174fae4e4ea622cee1876701b6": {
     "model_module": "@jupyter-widgets/controls",
     "model_module_version": "1.5.0",
     "model_name": "HTMLModel",
     "state": {
      "_dom_classes": [],
      "_model_module": "@jupyter-widgets/controls",
      "_model_module_version": "1.5.0",
      "_model_name": "HTMLModel",
      "_view_count": null,
      "_view_module": "@jupyter-widgets/controls",
      "_view_module_version": "1.5.0",
      "_view_name": "HTMLView",
      "description": "",
      "description_tooltip": null,
      "layout": "IPY_MODEL_bc7aefce8ae64f28a7f0647325b769bd",
      "placeholder": "​",
      "style": "IPY_MODEL_a651e4b39e06481fa438fc1af4a5b6ba",
      "value": "Batches: 100%"
     }
    },
    "cc5010206a5b41e98b12779218265f9e": {
     "model_module": "@jupyter-widgets/base",
     "model_module_version": "1.2.0",
     "model_name": "LayoutModel",
     "state": {
      "_model_module": "@jupyter-widgets/base",
      "_model_module_version": "1.2.0",
      "_model_name": "LayoutModel",
      "_view_count": null,
      "_view_module": "@jupyter-widgets/base",
      "_view_module_version": "1.2.0",
      "_view_name": "LayoutView",
      "align_content": null,
      "align_items": null,
      "align_self": null,
      "border": null,
      "bottom": null,
      "display": null,
      "flex": null,
      "flex_flow": null,
      "grid_area": null,
      "grid_auto_columns": null,
      "grid_auto_flow": null,
      "grid_auto_rows": null,
      "grid_column": null,
      "grid_gap": null,
      "grid_row": null,
      "grid_template_areas": null,
      "grid_template_columns": null,
      "grid_template_rows": null,
      "height": null,
      "justify_content": null,
      "justify_items": null,
      "left": null,
      "margin": null,
      "max_height": null,
      "max_width": null,
      "min_height": null,
      "min_width": null,
      "object_fit": null,
      "object_position": null,
      "order": null,
      "overflow": null,
      "overflow_x": null,
      "overflow_y": null,
      "padding": null,
      "right": null,
      "top": null,
      "visibility": null,
      "width": null
     }
    },
    "cd7fc47891c24e5c8b137b962821377c": {
     "model_module": "@jupyter-widgets/controls",
     "model_module_version": "1.5.0",
     "model_name": "HTMLModel",
     "state": {
      "_dom_classes": [],
      "_model_module": "@jupyter-widgets/controls",
      "_model_module_version": "1.5.0",
      "_model_name": "HTMLModel",
      "_view_count": null,
      "_view_module": "@jupyter-widgets/controls",
      "_view_module_version": "1.5.0",
      "_view_name": "HTMLView",
      "description": "",
      "description_tooltip": null,
      "layout": "IPY_MODEL_f61d0c405a22478189012edd0deaea4a",
      "placeholder": "​",
      "style": "IPY_MODEL_880bd99cc27344e3b9d3c818b5513491",
      "value": "Batches: 100%"
     }
    },
    "d01d62d3453a41ae8cb2a0ee0c9e435d": {
     "model_module": "@jupyter-widgets/controls",
     "model_module_version": "1.5.0",
     "model_name": "HTMLModel",
     "state": {
      "_dom_classes": [],
      "_model_module": "@jupyter-widgets/controls",
      "_model_module_version": "1.5.0",
      "_model_name": "HTMLModel",
      "_view_count": null,
      "_view_module": "@jupyter-widgets/controls",
      "_view_module_version": "1.5.0",
      "_view_name": "HTMLView",
      "description": "",
      "description_tooltip": null,
      "layout": "IPY_MODEL_a679eeca3dde4f36a0bce31b30810a81",
      "placeholder": "​",
      "style": "IPY_MODEL_7aa3ea07646f462487b505945d98a0c2",
      "value": "Batches: 100%"
     }
    },
    "d1b7adfe2ad846e0ad47fd7c3a3f89fe": {
     "model_module": "@jupyter-widgets/controls",
     "model_module_version": "1.5.0",
     "model_name": "DescriptionStyleModel",
     "state": {
      "_model_module": "@jupyter-widgets/controls",
      "_model_module_version": "1.5.0",
      "_model_name": "DescriptionStyleModel",
      "_view_count": null,
      "_view_module": "@jupyter-widgets/base",
      "_view_module_version": "1.2.0",
      "_view_name": "StyleView",
      "description_width": ""
     }
    },
    "d2511611dfcb46179a46c0a71deaec6b": {
     "model_module": "@jupyter-widgets/base",
     "model_module_version": "1.2.0",
     "model_name": "LayoutModel",
     "state": {
      "_model_module": "@jupyter-widgets/base",
      "_model_module_version": "1.2.0",
      "_model_name": "LayoutModel",
      "_view_count": null,
      "_view_module": "@jupyter-widgets/base",
      "_view_module_version": "1.2.0",
      "_view_name": "LayoutView",
      "align_content": null,
      "align_items": null,
      "align_self": null,
      "border": null,
      "bottom": null,
      "display": null,
      "flex": null,
      "flex_flow": null,
      "grid_area": null,
      "grid_auto_columns": null,
      "grid_auto_flow": null,
      "grid_auto_rows": null,
      "grid_column": null,
      "grid_gap": null,
      "grid_row": null,
      "grid_template_areas": null,
      "grid_template_columns": null,
      "grid_template_rows": null,
      "height": null,
      "justify_content": null,
      "justify_items": null,
      "left": null,
      "margin": null,
      "max_height": null,
      "max_width": null,
      "min_height": null,
      "min_width": null,
      "object_fit": null,
      "object_position": null,
      "order": null,
      "overflow": null,
      "overflow_x": null,
      "overflow_y": null,
      "padding": null,
      "right": null,
      "top": null,
      "visibility": null,
      "width": null
     }
    },
    "d6a6b06840644eb999c19e39c234a2f2": {
     "model_module": "@jupyter-widgets/controls",
     "model_module_version": "1.5.0",
     "model_name": "DescriptionStyleModel",
     "state": {
      "_model_module": "@jupyter-widgets/controls",
      "_model_module_version": "1.5.0",
      "_model_name": "DescriptionStyleModel",
      "_view_count": null,
      "_view_module": "@jupyter-widgets/base",
      "_view_module_version": "1.2.0",
      "_view_name": "StyleView",
      "description_width": ""
     }
    },
    "db6a4a698a2344ceab63460f487ec1b7": {
     "model_module": "@jupyter-widgets/base",
     "model_module_version": "1.2.0",
     "model_name": "LayoutModel",
     "state": {
      "_model_module": "@jupyter-widgets/base",
      "_model_module_version": "1.2.0",
      "_model_name": "LayoutModel",
      "_view_count": null,
      "_view_module": "@jupyter-widgets/base",
      "_view_module_version": "1.2.0",
      "_view_name": "LayoutView",
      "align_content": null,
      "align_items": null,
      "align_self": null,
      "border": null,
      "bottom": null,
      "display": null,
      "flex": null,
      "flex_flow": null,
      "grid_area": null,
      "grid_auto_columns": null,
      "grid_auto_flow": null,
      "grid_auto_rows": null,
      "grid_column": null,
      "grid_gap": null,
      "grid_row": null,
      "grid_template_areas": null,
      "grid_template_columns": null,
      "grid_template_rows": null,
      "height": null,
      "justify_content": null,
      "justify_items": null,
      "left": null,
      "margin": null,
      "max_height": null,
      "max_width": null,
      "min_height": null,
      "min_width": null,
      "object_fit": null,
      "object_position": null,
      "order": null,
      "overflow": null,
      "overflow_x": null,
      "overflow_y": null,
      "padding": null,
      "right": null,
      "top": null,
      "visibility": null,
      "width": null
     }
    },
    "deac8930d92e44028acd82dfba7191a2": {
     "model_module": "@jupyter-widgets/controls",
     "model_module_version": "1.5.0",
     "model_name": "FloatProgressModel",
     "state": {
      "_dom_classes": [],
      "_model_module": "@jupyter-widgets/controls",
      "_model_module_version": "1.5.0",
      "_model_name": "FloatProgressModel",
      "_view_count": null,
      "_view_module": "@jupyter-widgets/controls",
      "_view_module_version": "1.5.0",
      "_view_name": "ProgressView",
      "bar_style": "success",
      "description": "",
      "description_tooltip": null,
      "layout": "IPY_MODEL_6ba4882ad8a0414ca8e35e3781b6db92",
      "max": 10,
      "min": 0,
      "orientation": "horizontal",
      "style": "IPY_MODEL_af559685733b4f4d93267e2cc481acbf",
      "value": 10
     }
    },
    "dfd275fee85c4d6a998781797ffdcb31": {
     "model_module": "@jupyter-widgets/base",
     "model_module_version": "1.2.0",
     "model_name": "LayoutModel",
     "state": {
      "_model_module": "@jupyter-widgets/base",
      "_model_module_version": "1.2.0",
      "_model_name": "LayoutModel",
      "_view_count": null,
      "_view_module": "@jupyter-widgets/base",
      "_view_module_version": "1.2.0",
      "_view_name": "LayoutView",
      "align_content": null,
      "align_items": null,
      "align_self": null,
      "border": null,
      "bottom": null,
      "display": null,
      "flex": null,
      "flex_flow": null,
      "grid_area": null,
      "grid_auto_columns": null,
      "grid_auto_flow": null,
      "grid_auto_rows": null,
      "grid_column": null,
      "grid_gap": null,
      "grid_row": null,
      "grid_template_areas": null,
      "grid_template_columns": null,
      "grid_template_rows": null,
      "height": null,
      "justify_content": null,
      "justify_items": null,
      "left": null,
      "margin": null,
      "max_height": null,
      "max_width": null,
      "min_height": null,
      "min_width": null,
      "object_fit": null,
      "object_position": null,
      "order": null,
      "overflow": null,
      "overflow_x": null,
      "overflow_y": null,
      "padding": null,
      "right": null,
      "top": null,
      "visibility": null,
      "width": null
     }
    },
    "e030a6aef5cf4aa8ab827ae53b0ec757": {
     "model_module": "@jupyter-widgets/controls",
     "model_module_version": "1.5.0",
     "model_name": "HBoxModel",
     "state": {
      "_dom_classes": [],
      "_model_module": "@jupyter-widgets/controls",
      "_model_module_version": "1.5.0",
      "_model_name": "HBoxModel",
      "_view_count": null,
      "_view_module": "@jupyter-widgets/controls",
      "_view_module_version": "1.5.0",
      "_view_name": "HBoxView",
      "box_style": "",
      "children": [
       "IPY_MODEL_c769fc72dad14565a45de4e9c18ce104",
       "IPY_MODEL_1c4c43525f7343c29b53e1280fc1ad5a",
       "IPY_MODEL_804bef47421846a6bb5f79ed3dfc1666"
      ],
      "layout": "IPY_MODEL_d2511611dfcb46179a46c0a71deaec6b"
     }
    },
    "e1cea41a593f48a1a69e2fce6d07a0f0": {
     "model_module": "@jupyter-widgets/controls",
     "model_module_version": "1.5.0",
     "model_name": "DescriptionStyleModel",
     "state": {
      "_model_module": "@jupyter-widgets/controls",
      "_model_module_version": "1.5.0",
      "_model_name": "DescriptionStyleModel",
      "_view_count": null,
      "_view_module": "@jupyter-widgets/base",
      "_view_module_version": "1.2.0",
      "_view_name": "StyleView",
      "description_width": ""
     }
    },
    "e4274cc1d42247b89f8ff9de990eb3fa": {
     "model_module": "@jupyter-widgets/base",
     "model_module_version": "1.2.0",
     "model_name": "LayoutModel",
     "state": {
      "_model_module": "@jupyter-widgets/base",
      "_model_module_version": "1.2.0",
      "_model_name": "LayoutModel",
      "_view_count": null,
      "_view_module": "@jupyter-widgets/base",
      "_view_module_version": "1.2.0",
      "_view_name": "LayoutView",
      "align_content": null,
      "align_items": null,
      "align_self": null,
      "border": null,
      "bottom": null,
      "display": null,
      "flex": null,
      "flex_flow": null,
      "grid_area": null,
      "grid_auto_columns": null,
      "grid_auto_flow": null,
      "grid_auto_rows": null,
      "grid_column": null,
      "grid_gap": null,
      "grid_row": null,
      "grid_template_areas": null,
      "grid_template_columns": null,
      "grid_template_rows": null,
      "height": null,
      "justify_content": null,
      "justify_items": null,
      "left": null,
      "margin": null,
      "max_height": null,
      "max_width": null,
      "min_height": null,
      "min_width": null,
      "object_fit": null,
      "object_position": null,
      "order": null,
      "overflow": null,
      "overflow_x": null,
      "overflow_y": null,
      "padding": null,
      "right": null,
      "top": null,
      "visibility": null,
      "width": null
     }
    },
    "e9f00e5b300e491e9a8ff52a4bf2a2ca": {
     "model_module": "@jupyter-widgets/controls",
     "model_module_version": "1.5.0",
     "model_name": "HTMLModel",
     "state": {
      "_dom_classes": [],
      "_model_module": "@jupyter-widgets/controls",
      "_model_module_version": "1.5.0",
      "_model_name": "HTMLModel",
      "_view_count": null,
      "_view_module": "@jupyter-widgets/controls",
      "_view_module_version": "1.5.0",
      "_view_name": "HTMLView",
      "description": "",
      "description_tooltip": null,
      "layout": "IPY_MODEL_4b8bca1ca33743678221d7ed338a2729",
      "placeholder": "​",
      "style": "IPY_MODEL_3fd652f90ff84f779ba51d7e6b5825e7",
      "value": " 10/10 [00:00&lt;00:00, 21.87it/s]"
     }
    },
    "f095fa8279984f098d58ef7fa36c1fc9": {
     "model_module": "@jupyter-widgets/base",
     "model_module_version": "1.2.0",
     "model_name": "LayoutModel",
     "state": {
      "_model_module": "@jupyter-widgets/base",
      "_model_module_version": "1.2.0",
      "_model_name": "LayoutModel",
      "_view_count": null,
      "_view_module": "@jupyter-widgets/base",
      "_view_module_version": "1.2.0",
      "_view_name": "LayoutView",
      "align_content": null,
      "align_items": null,
      "align_self": null,
      "border": null,
      "bottom": null,
      "display": null,
      "flex": null,
      "flex_flow": null,
      "grid_area": null,
      "grid_auto_columns": null,
      "grid_auto_flow": null,
      "grid_auto_rows": null,
      "grid_column": null,
      "grid_gap": null,
      "grid_row": null,
      "grid_template_areas": null,
      "grid_template_columns": null,
      "grid_template_rows": null,
      "height": null,
      "justify_content": null,
      "justify_items": null,
      "left": null,
      "margin": null,
      "max_height": null,
      "max_width": null,
      "min_height": null,
      "min_width": null,
      "object_fit": null,
      "object_position": null,
      "order": null,
      "overflow": null,
      "overflow_x": null,
      "overflow_y": null,
      "padding": null,
      "right": null,
      "top": null,
      "visibility": null,
      "width": null
     }
    },
    "f61d0c405a22478189012edd0deaea4a": {
     "model_module": "@jupyter-widgets/base",
     "model_module_version": "1.2.0",
     "model_name": "LayoutModel",
     "state": {
      "_model_module": "@jupyter-widgets/base",
      "_model_module_version": "1.2.0",
      "_model_name": "LayoutModel",
      "_view_count": null,
      "_view_module": "@jupyter-widgets/base",
      "_view_module_version": "1.2.0",
      "_view_name": "LayoutView",
      "align_content": null,
      "align_items": null,
      "align_self": null,
      "border": null,
      "bottom": null,
      "display": null,
      "flex": null,
      "flex_flow": null,
      "grid_area": null,
      "grid_auto_columns": null,
      "grid_auto_flow": null,
      "grid_auto_rows": null,
      "grid_column": null,
      "grid_gap": null,
      "grid_row": null,
      "grid_template_areas": null,
      "grid_template_columns": null,
      "grid_template_rows": null,
      "height": null,
      "justify_content": null,
      "justify_items": null,
      "left": null,
      "margin": null,
      "max_height": null,
      "max_width": null,
      "min_height": null,
      "min_width": null,
      "object_fit": null,
      "object_position": null,
      "order": null,
      "overflow": null,
      "overflow_x": null,
      "overflow_y": null,
      "padding": null,
      "right": null,
      "top": null,
      "visibility": null,
      "width": null
     }
    },
    "f7d1383a916a4520bc7b26dff61c0e9a": {
     "model_module": "@jupyter-widgets/base",
     "model_module_version": "1.2.0",
     "model_name": "LayoutModel",
     "state": {
      "_model_module": "@jupyter-widgets/base",
      "_model_module_version": "1.2.0",
      "_model_name": "LayoutModel",
      "_view_count": null,
      "_view_module": "@jupyter-widgets/base",
      "_view_module_version": "1.2.0",
      "_view_name": "LayoutView",
      "align_content": null,
      "align_items": null,
      "align_self": null,
      "border": null,
      "bottom": null,
      "display": null,
      "flex": null,
      "flex_flow": null,
      "grid_area": null,
      "grid_auto_columns": null,
      "grid_auto_flow": null,
      "grid_auto_rows": null,
      "grid_column": null,
      "grid_gap": null,
      "grid_row": null,
      "grid_template_areas": null,
      "grid_template_columns": null,
      "grid_template_rows": null,
      "height": null,
      "justify_content": null,
      "justify_items": null,
      "left": null,
      "margin": null,
      "max_height": null,
      "max_width": null,
      "min_height": null,
      "min_width": null,
      "object_fit": null,
      "object_position": null,
      "order": null,
      "overflow": null,
      "overflow_x": null,
      "overflow_y": null,
      "padding": null,
      "right": null,
      "top": null,
      "visibility": null,
      "width": null
     }
    },
    "fa9d284d5626439097a433f3fdceb649": {
     "model_module": "@jupyter-widgets/controls",
     "model_module_version": "1.5.0",
     "model_name": "ProgressStyleModel",
     "state": {
      "_model_module": "@jupyter-widgets/controls",
      "_model_module_version": "1.5.0",
      "_model_name": "ProgressStyleModel",
      "_view_count": null,
      "_view_module": "@jupyter-widgets/base",
      "_view_module_version": "1.2.0",
      "_view_name": "StyleView",
      "bar_color": null,
      "description_width": ""
     }
    },
    "faba96e4026a4e84ad2cb8c30527bad6": {
     "model_module": "@jupyter-widgets/controls",
     "model_module_version": "1.5.0",
     "model_name": "DescriptionStyleModel",
     "state": {
      "_model_module": "@jupyter-widgets/controls",
      "_model_module_version": "1.5.0",
      "_model_name": "DescriptionStyleModel",
      "_view_count": null,
      "_view_module": "@jupyter-widgets/base",
      "_view_module_version": "1.2.0",
      "_view_name": "StyleView",
      "description_width": ""
     }
    },
    "fd5f5ab9289740b6b195ea2ae2882f49": {
     "model_module": "@jupyter-widgets/controls",
     "model_module_version": "1.5.0",
     "model_name": "ProgressStyleModel",
     "state": {
      "_model_module": "@jupyter-widgets/controls",
      "_model_module_version": "1.5.0",
      "_model_name": "ProgressStyleModel",
      "_view_count": null,
      "_view_module": "@jupyter-widgets/base",
      "_view_module_version": "1.2.0",
      "_view_name": "StyleView",
      "bar_color": null,
      "description_width": ""
     }
    },
    "ff1583c20665428da4da2d83edd48ab6": {
     "model_module": "@jupyter-widgets/base",
     "model_module_version": "1.2.0",
     "model_name": "LayoutModel",
     "state": {
      "_model_module": "@jupyter-widgets/base",
      "_model_module_version": "1.2.0",
      "_model_name": "LayoutModel",
      "_view_count": null,
      "_view_module": "@jupyter-widgets/base",
      "_view_module_version": "1.2.0",
      "_view_name": "LayoutView",
      "align_content": null,
      "align_items": null,
      "align_self": null,
      "border": null,
      "bottom": null,
      "display": null,
      "flex": null,
      "flex_flow": null,
      "grid_area": null,
      "grid_auto_columns": null,
      "grid_auto_flow": null,
      "grid_auto_rows": null,
      "grid_column": null,
      "grid_gap": null,
      "grid_row": null,
      "grid_template_areas": null,
      "grid_template_columns": null,
      "grid_template_rows": null,
      "height": null,
      "justify_content": null,
      "justify_items": null,
      "left": null,
      "margin": null,
      "max_height": null,
      "max_width": null,
      "min_height": null,
      "min_width": null,
      "object_fit": null,
      "object_position": null,
      "order": null,
      "overflow": null,
      "overflow_x": null,
      "overflow_y": null,
      "padding": null,
      "right": null,
      "top": null,
      "visibility": null,
      "width": null
     }
    },
    "ff199bfd4d7d44c789192ab6ed13c873": {
     "model_module": "@jupyter-widgets/controls",
     "model_module_version": "1.5.0",
     "model_name": "DescriptionStyleModel",
     "state": {
      "_model_module": "@jupyter-widgets/controls",
      "_model_module_version": "1.5.0",
      "_model_name": "DescriptionStyleModel",
      "_view_count": null,
      "_view_module": "@jupyter-widgets/base",
      "_view_module_version": "1.2.0",
      "_view_name": "StyleView",
      "description_width": ""
     }
    }
   }
  }
 },
 "nbformat": 4,
 "nbformat_minor": 4
}
